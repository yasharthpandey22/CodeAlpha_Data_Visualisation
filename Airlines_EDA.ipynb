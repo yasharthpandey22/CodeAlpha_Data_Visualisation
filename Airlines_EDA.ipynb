{
  "nbformat": 4,
  "nbformat_minor": 0,
  "metadata": {
    "colab": {
      "provenance": [],
      "mount_file_id": "1EuqHiVHlQq-pv1rChf6xlH7F8x6XLquT",
      "authorship_tag": "ABX9TyPXHVARl8dnOQv26rx4MhiT",
      "include_colab_link": true
    },
    "kernelspec": {
      "name": "python3",
      "display_name": "Python 3"
    },
    "language_info": {
      "name": "python"
    }
  },
  "cells": [
    {
      "cell_type": "markdown",
      "metadata": {
        "id": "view-in-github",
        "colab_type": "text"
      },
      "source": [
        "<a href=\"https://colab.research.google.com/github/yasharthpandey22/CodeAlpha_Data_Visualisation/blob/main/Airlines_EDA.ipynb\" target=\"_parent\"><img src=\"https://colab.research.google.com/assets/colab-badge.svg\" alt=\"Open In Colab\"/></a>"
      ]
    },
    {
      "cell_type": "markdown",
      "source": [
        "#Introduction: Understanding Airline Flight Data"
      ],
      "metadata": {
        "id": "opE8y0bozfPt"
      }
    },
    {
      "cell_type": "markdown",
      "source": [
        "##The airline industry operates on a vast and complex network of scheduled flights, airport logistics, and carrier performance.This dataset contains detailed flight information including airline names, departure and arrival times, delays, durations, and route paths. The data is collected from domestic flights in India over a specific time frame.\n",
        "\n",
        "###With multiple features like airline, source, destination, duration, stops, and price, the dataset is suitable for pricing prediction and travel pattern analysis.\n",
        "\n",
        "###    Goals of this EDA:\n",
        "\n",
        "- Understand key drivers of flight pricing.\n",
        "- Analyze average delays and durations by airline.\n",
        "- Check correlation between features like stops, duration, and price.\n",
        "- Handle missing values and feature engineering (e.g., extracting hour from time)."
      ],
      "metadata": {
        "id": "CYM0h0MH0K-P"
      }
    },
    {
      "cell_type": "markdown",
      "source": [
        "# ABSTRACT :\n"
      ],
      "metadata": {
        "id": "fHEHhAPp0vgS"
      }
    },
    {
      "cell_type": "markdown",
      "source": [
        "| Column Name         | Description                                        |\n",
        "| ------------------- | -------------------------------------------------- |\n",
        "| FL_DATE             | Date of the flight                                 |\n",
        "| OP_UNIQUE_CARRIER   | Airline code (unique carrier identifier)           |\n",
        "| ORIGIN              | Departure airport code                             |\n",
        "| DEST                | Destination airport code                           |\n",
        "| DEP_TIME            | Actual departure time                              |\n",
        "| ARR_TIME            | Actual arrival time                                |\n",
        "| DEP_DELAY           | Delay at departure (in minutes)                    |\n",
        "| ARR_DELAY           | Delay at arrival (in minutes)                      |\n",
        "| CANCELLED           | Whether the flight was cancelled (0 = No, 1 = Yes) |\n",
        "| CANCELLATION_CODE   | Reason for cancellation (if any)                   |\n",
        "| AIR_TIME            | Actual time spent flying (in minutes)              |\n",
        "| DISTANCE            | Distance between origin and destination (in miles) |"
      ],
      "metadata": {
        "id": "e9Gg4VTG1EqT"
      }
    },
    {
      "cell_type": "markdown",
      "source": [
        "# 1. Import Libraries"
      ],
      "metadata": {
        "id": "0BP1huxd2j1r"
      }
    },
    {
      "cell_type": "code",
      "execution_count": null,
      "metadata": {
        "id": "IoowN1CbzY3x"
      },
      "outputs": [],
      "source": [
        "import pandas as pd\n",
        "import seaborn as sns\n",
        "import matplotlib.pyplot as plt\n",
        "import numpy as np\n"
      ]
    },
    {
      "cell_type": "markdown",
      "source": [
        "# 2. Load Dataset"
      ],
      "metadata": {
        "id": "5AnQgKti20bp"
      }
    },
    {
      "cell_type": "code",
      "source": [
        "df = pd.read_csv('airlines_flights_data.csv')"
      ],
      "metadata": {
        "id": "6Nw1TB0N24i2"
      },
      "execution_count": null,
      "outputs": []
    },
    {
      "cell_type": "markdown",
      "source": [
        "# 3. Basic Info"
      ],
      "metadata": {
        "id": "Q2i78ej93Y9o"
      }
    },
    {
      "cell_type": "markdown",
      "source": [
        "## 1.Rows and columns in dataset:"
      ],
      "metadata": {
        "id": "LUkjjjjw7imE"
      }
    },
    {
      "cell_type": "code",
      "source": [
        "print(\"No. of rows are:-\",df.shape[0],'No. of columns are:-',df.shape[1])"
      ],
      "metadata": {
        "colab": {
          "base_uri": "https://localhost:8080/"
        },
        "id": "FiexsCqt25dH",
        "outputId": "5c9e9e1b-59da-493a-a20f-ca9e8324f343"
      },
      "execution_count": null,
      "outputs": [
        {
          "output_type": "stream",
          "name": "stdout",
          "text": [
            "No. of rows are:- 300153 No. of columns are:- 12\n"
          ]
        }
      ]
    },
    {
      "cell_type": "markdown",
      "source": [
        "## 2. Datatype and Non-Null counts:"
      ],
      "metadata": {
        "id": "7Q-aEo-P7GOB"
      }
    },
    {
      "cell_type": "code",
      "source": [
        "df.info()"
      ],
      "metadata": {
        "colab": {
          "base_uri": "https://localhost:8080/"
        },
        "id": "rrIleVnn25Zq",
        "outputId": "598a48f6-7cbd-4d67-dc28-848c24d989f8"
      },
      "execution_count": null,
      "outputs": [
        {
          "output_type": "stream",
          "name": "stdout",
          "text": [
            "<class 'pandas.core.frame.DataFrame'>\n",
            "RangeIndex: 300153 entries, 0 to 300152\n",
            "Data columns (total 12 columns):\n",
            " #   Column            Non-Null Count   Dtype  \n",
            "---  ------            --------------   -----  \n",
            " 0   index             300153 non-null  int64  \n",
            " 1   airline           300153 non-null  object \n",
            " 2   flight            300153 non-null  object \n",
            " 3   source_city       300153 non-null  object \n",
            " 4   departure_time    300153 non-null  object \n",
            " 5   stops             300153 non-null  object \n",
            " 6   arrival_time      300153 non-null  object \n",
            " 7   destination_city  300153 non-null  object \n",
            " 8   class             300153 non-null  object \n",
            " 9   duration          300153 non-null  float64\n",
            " 10  days_left         300153 non-null  int64  \n",
            " 11  price             300153 non-null  int64  \n",
            "dtypes: float64(1), int64(3), object(8)\n",
            "memory usage: 27.5+ MB\n"
          ]
        }
      ]
    },
    {
      "cell_type": "markdown",
      "source": [
        "## 3. First and Last five rows of Dataset:"
      ],
      "metadata": {
        "id": "mrD1AiQ39BvG"
      }
    },
    {
      "cell_type": "code",
      "source": [
        "df.head()"
      ],
      "metadata": {
        "colab": {
          "base_uri": "https://localhost:8080/",
          "height": 206
        },
        "id": "dTMS0GuM25Xc",
        "outputId": "61d233d1-375e-4332-e1a8-23f0073aa801"
      },
      "execution_count": null,
      "outputs": [
        {
          "output_type": "execute_result",
          "data": {
            "text/plain": [
              "   index   airline   flight source_city departure_time stops   arrival_time  \\\n",
              "0      0  SpiceJet  SG-8709       Delhi        Evening  zero          Night   \n",
              "1      1  SpiceJet  SG-8157       Delhi  Early_Morning  zero        Morning   \n",
              "2      2   AirAsia   I5-764       Delhi  Early_Morning  zero  Early_Morning   \n",
              "3      3   Vistara   UK-995       Delhi        Morning  zero      Afternoon   \n",
              "4      4   Vistara   UK-963       Delhi        Morning  zero        Morning   \n",
              "\n",
              "  destination_city    class  duration  days_left  price  \n",
              "0           Mumbai  Economy      2.17          1   5953  \n",
              "1           Mumbai  Economy      2.33          1   5953  \n",
              "2           Mumbai  Economy      2.17          1   5956  \n",
              "3           Mumbai  Economy      2.25          1   5955  \n",
              "4           Mumbai  Economy      2.33          1   5955  "
            ],
            "text/html": [
              "\n",
              "  <div id=\"df-eade25f6-fdf5-47a9-bf56-f535cfee3087\" class=\"colab-df-container\">\n",
              "    <div>\n",
              "<style scoped>\n",
              "    .dataframe tbody tr th:only-of-type {\n",
              "        vertical-align: middle;\n",
              "    }\n",
              "\n",
              "    .dataframe tbody tr th {\n",
              "        vertical-align: top;\n",
              "    }\n",
              "\n",
              "    .dataframe thead th {\n",
              "        text-align: right;\n",
              "    }\n",
              "</style>\n",
              "<table border=\"1\" class=\"dataframe\">\n",
              "  <thead>\n",
              "    <tr style=\"text-align: right;\">\n",
              "      <th></th>\n",
              "      <th>index</th>\n",
              "      <th>airline</th>\n",
              "      <th>flight</th>\n",
              "      <th>source_city</th>\n",
              "      <th>departure_time</th>\n",
              "      <th>stops</th>\n",
              "      <th>arrival_time</th>\n",
              "      <th>destination_city</th>\n",
              "      <th>class</th>\n",
              "      <th>duration</th>\n",
              "      <th>days_left</th>\n",
              "      <th>price</th>\n",
              "    </tr>\n",
              "  </thead>\n",
              "  <tbody>\n",
              "    <tr>\n",
              "      <th>0</th>\n",
              "      <td>0</td>\n",
              "      <td>SpiceJet</td>\n",
              "      <td>SG-8709</td>\n",
              "      <td>Delhi</td>\n",
              "      <td>Evening</td>\n",
              "      <td>zero</td>\n",
              "      <td>Night</td>\n",
              "      <td>Mumbai</td>\n",
              "      <td>Economy</td>\n",
              "      <td>2.17</td>\n",
              "      <td>1</td>\n",
              "      <td>5953</td>\n",
              "    </tr>\n",
              "    <tr>\n",
              "      <th>1</th>\n",
              "      <td>1</td>\n",
              "      <td>SpiceJet</td>\n",
              "      <td>SG-8157</td>\n",
              "      <td>Delhi</td>\n",
              "      <td>Early_Morning</td>\n",
              "      <td>zero</td>\n",
              "      <td>Morning</td>\n",
              "      <td>Mumbai</td>\n",
              "      <td>Economy</td>\n",
              "      <td>2.33</td>\n",
              "      <td>1</td>\n",
              "      <td>5953</td>\n",
              "    </tr>\n",
              "    <tr>\n",
              "      <th>2</th>\n",
              "      <td>2</td>\n",
              "      <td>AirAsia</td>\n",
              "      <td>I5-764</td>\n",
              "      <td>Delhi</td>\n",
              "      <td>Early_Morning</td>\n",
              "      <td>zero</td>\n",
              "      <td>Early_Morning</td>\n",
              "      <td>Mumbai</td>\n",
              "      <td>Economy</td>\n",
              "      <td>2.17</td>\n",
              "      <td>1</td>\n",
              "      <td>5956</td>\n",
              "    </tr>\n",
              "    <tr>\n",
              "      <th>3</th>\n",
              "      <td>3</td>\n",
              "      <td>Vistara</td>\n",
              "      <td>UK-995</td>\n",
              "      <td>Delhi</td>\n",
              "      <td>Morning</td>\n",
              "      <td>zero</td>\n",
              "      <td>Afternoon</td>\n",
              "      <td>Mumbai</td>\n",
              "      <td>Economy</td>\n",
              "      <td>2.25</td>\n",
              "      <td>1</td>\n",
              "      <td>5955</td>\n",
              "    </tr>\n",
              "    <tr>\n",
              "      <th>4</th>\n",
              "      <td>4</td>\n",
              "      <td>Vistara</td>\n",
              "      <td>UK-963</td>\n",
              "      <td>Delhi</td>\n",
              "      <td>Morning</td>\n",
              "      <td>zero</td>\n",
              "      <td>Morning</td>\n",
              "      <td>Mumbai</td>\n",
              "      <td>Economy</td>\n",
              "      <td>2.33</td>\n",
              "      <td>1</td>\n",
              "      <td>5955</td>\n",
              "    </tr>\n",
              "  </tbody>\n",
              "</table>\n",
              "</div>\n",
              "    <div class=\"colab-df-buttons\">\n",
              "\n",
              "  <div class=\"colab-df-container\">\n",
              "    <button class=\"colab-df-convert\" onclick=\"convertToInteractive('df-eade25f6-fdf5-47a9-bf56-f535cfee3087')\"\n",
              "            title=\"Convert this dataframe to an interactive table.\"\n",
              "            style=\"display:none;\">\n",
              "\n",
              "  <svg xmlns=\"http://www.w3.org/2000/svg\" height=\"24px\" viewBox=\"0 -960 960 960\">\n",
              "    <path d=\"M120-120v-720h720v720H120Zm60-500h600v-160H180v160Zm220 220h160v-160H400v160Zm0 220h160v-160H400v160ZM180-400h160v-160H180v160Zm440 0h160v-160H620v160ZM180-180h160v-160H180v160Zm440 0h160v-160H620v160Z\"/>\n",
              "  </svg>\n",
              "    </button>\n",
              "\n",
              "  <style>\n",
              "    .colab-df-container {\n",
              "      display:flex;\n",
              "      gap: 12px;\n",
              "    }\n",
              "\n",
              "    .colab-df-convert {\n",
              "      background-color: #E8F0FE;\n",
              "      border: none;\n",
              "      border-radius: 50%;\n",
              "      cursor: pointer;\n",
              "      display: none;\n",
              "      fill: #1967D2;\n",
              "      height: 32px;\n",
              "      padding: 0 0 0 0;\n",
              "      width: 32px;\n",
              "    }\n",
              "\n",
              "    .colab-df-convert:hover {\n",
              "      background-color: #E2EBFA;\n",
              "      box-shadow: 0px 1px 2px rgba(60, 64, 67, 0.3), 0px 1px 3px 1px rgba(60, 64, 67, 0.15);\n",
              "      fill: #174EA6;\n",
              "    }\n",
              "\n",
              "    .colab-df-buttons div {\n",
              "      margin-bottom: 4px;\n",
              "    }\n",
              "\n",
              "    [theme=dark] .colab-df-convert {\n",
              "      background-color: #3B4455;\n",
              "      fill: #D2E3FC;\n",
              "    }\n",
              "\n",
              "    [theme=dark] .colab-df-convert:hover {\n",
              "      background-color: #434B5C;\n",
              "      box-shadow: 0px 1px 3px 1px rgba(0, 0, 0, 0.15);\n",
              "      filter: drop-shadow(0px 1px 2px rgba(0, 0, 0, 0.3));\n",
              "      fill: #FFFFFF;\n",
              "    }\n",
              "  </style>\n",
              "\n",
              "    <script>\n",
              "      const buttonEl =\n",
              "        document.querySelector('#df-eade25f6-fdf5-47a9-bf56-f535cfee3087 button.colab-df-convert');\n",
              "      buttonEl.style.display =\n",
              "        google.colab.kernel.accessAllowed ? 'block' : 'none';\n",
              "\n",
              "      async function convertToInteractive(key) {\n",
              "        const element = document.querySelector('#df-eade25f6-fdf5-47a9-bf56-f535cfee3087');\n",
              "        const dataTable =\n",
              "          await google.colab.kernel.invokeFunction('convertToInteractive',\n",
              "                                                    [key], {});\n",
              "        if (!dataTable) return;\n",
              "\n",
              "        const docLinkHtml = 'Like what you see? Visit the ' +\n",
              "          '<a target=\"_blank\" href=https://colab.research.google.com/notebooks/data_table.ipynb>data table notebook</a>'\n",
              "          + ' to learn more about interactive tables.';\n",
              "        element.innerHTML = '';\n",
              "        dataTable['output_type'] = 'display_data';\n",
              "        await google.colab.output.renderOutput(dataTable, element);\n",
              "        const docLink = document.createElement('div');\n",
              "        docLink.innerHTML = docLinkHtml;\n",
              "        element.appendChild(docLink);\n",
              "      }\n",
              "    </script>\n",
              "  </div>\n",
              "\n",
              "\n",
              "    <div id=\"df-8f7c62d7-2621-46b2-b701-031426ab23e7\">\n",
              "      <button class=\"colab-df-quickchart\" onclick=\"quickchart('df-8f7c62d7-2621-46b2-b701-031426ab23e7')\"\n",
              "                title=\"Suggest charts\"\n",
              "                style=\"display:none;\">\n",
              "\n",
              "<svg xmlns=\"http://www.w3.org/2000/svg\" height=\"24px\"viewBox=\"0 0 24 24\"\n",
              "     width=\"24px\">\n",
              "    <g>\n",
              "        <path d=\"M19 3H5c-1.1 0-2 .9-2 2v14c0 1.1.9 2 2 2h14c1.1 0 2-.9 2-2V5c0-1.1-.9-2-2-2zM9 17H7v-7h2v7zm4 0h-2V7h2v10zm4 0h-2v-4h2v4z\"/>\n",
              "    </g>\n",
              "</svg>\n",
              "      </button>\n",
              "\n",
              "<style>\n",
              "  .colab-df-quickchart {\n",
              "      --bg-color: #E8F0FE;\n",
              "      --fill-color: #1967D2;\n",
              "      --hover-bg-color: #E2EBFA;\n",
              "      --hover-fill-color: #174EA6;\n",
              "      --disabled-fill-color: #AAA;\n",
              "      --disabled-bg-color: #DDD;\n",
              "  }\n",
              "\n",
              "  [theme=dark] .colab-df-quickchart {\n",
              "      --bg-color: #3B4455;\n",
              "      --fill-color: #D2E3FC;\n",
              "      --hover-bg-color: #434B5C;\n",
              "      --hover-fill-color: #FFFFFF;\n",
              "      --disabled-bg-color: #3B4455;\n",
              "      --disabled-fill-color: #666;\n",
              "  }\n",
              "\n",
              "  .colab-df-quickchart {\n",
              "    background-color: var(--bg-color);\n",
              "    border: none;\n",
              "    border-radius: 50%;\n",
              "    cursor: pointer;\n",
              "    display: none;\n",
              "    fill: var(--fill-color);\n",
              "    height: 32px;\n",
              "    padding: 0;\n",
              "    width: 32px;\n",
              "  }\n",
              "\n",
              "  .colab-df-quickchart:hover {\n",
              "    background-color: var(--hover-bg-color);\n",
              "    box-shadow: 0 1px 2px rgba(60, 64, 67, 0.3), 0 1px 3px 1px rgba(60, 64, 67, 0.15);\n",
              "    fill: var(--button-hover-fill-color);\n",
              "  }\n",
              "\n",
              "  .colab-df-quickchart-complete:disabled,\n",
              "  .colab-df-quickchart-complete:disabled:hover {\n",
              "    background-color: var(--disabled-bg-color);\n",
              "    fill: var(--disabled-fill-color);\n",
              "    box-shadow: none;\n",
              "  }\n",
              "\n",
              "  .colab-df-spinner {\n",
              "    border: 2px solid var(--fill-color);\n",
              "    border-color: transparent;\n",
              "    border-bottom-color: var(--fill-color);\n",
              "    animation:\n",
              "      spin 1s steps(1) infinite;\n",
              "  }\n",
              "\n",
              "  @keyframes spin {\n",
              "    0% {\n",
              "      border-color: transparent;\n",
              "      border-bottom-color: var(--fill-color);\n",
              "      border-left-color: var(--fill-color);\n",
              "    }\n",
              "    20% {\n",
              "      border-color: transparent;\n",
              "      border-left-color: var(--fill-color);\n",
              "      border-top-color: var(--fill-color);\n",
              "    }\n",
              "    30% {\n",
              "      border-color: transparent;\n",
              "      border-left-color: var(--fill-color);\n",
              "      border-top-color: var(--fill-color);\n",
              "      border-right-color: var(--fill-color);\n",
              "    }\n",
              "    40% {\n",
              "      border-color: transparent;\n",
              "      border-right-color: var(--fill-color);\n",
              "      border-top-color: var(--fill-color);\n",
              "    }\n",
              "    60% {\n",
              "      border-color: transparent;\n",
              "      border-right-color: var(--fill-color);\n",
              "    }\n",
              "    80% {\n",
              "      border-color: transparent;\n",
              "      border-right-color: var(--fill-color);\n",
              "      border-bottom-color: var(--fill-color);\n",
              "    }\n",
              "    90% {\n",
              "      border-color: transparent;\n",
              "      border-bottom-color: var(--fill-color);\n",
              "    }\n",
              "  }\n",
              "</style>\n",
              "\n",
              "      <script>\n",
              "        async function quickchart(key) {\n",
              "          const quickchartButtonEl =\n",
              "            document.querySelector('#' + key + ' button');\n",
              "          quickchartButtonEl.disabled = true;  // To prevent multiple clicks.\n",
              "          quickchartButtonEl.classList.add('colab-df-spinner');\n",
              "          try {\n",
              "            const charts = await google.colab.kernel.invokeFunction(\n",
              "                'suggestCharts', [key], {});\n",
              "          } catch (error) {\n",
              "            console.error('Error during call to suggestCharts:', error);\n",
              "          }\n",
              "          quickchartButtonEl.classList.remove('colab-df-spinner');\n",
              "          quickchartButtonEl.classList.add('colab-df-quickchart-complete');\n",
              "        }\n",
              "        (() => {\n",
              "          let quickchartButtonEl =\n",
              "            document.querySelector('#df-8f7c62d7-2621-46b2-b701-031426ab23e7 button');\n",
              "          quickchartButtonEl.style.display =\n",
              "            google.colab.kernel.accessAllowed ? 'block' : 'none';\n",
              "        })();\n",
              "      </script>\n",
              "    </div>\n",
              "\n",
              "    </div>\n",
              "  </div>\n"
            ],
            "application/vnd.google.colaboratory.intrinsic+json": {
              "type": "dataframe",
              "variable_name": "df"
            }
          },
          "metadata": {},
          "execution_count": 12
        }
      ]
    },
    {
      "cell_type": "code",
      "source": [
        "df.tail()"
      ],
      "metadata": {
        "colab": {
          "base_uri": "https://localhost:8080/",
          "height": 206
        },
        "id": "ojHAkpet25VH",
        "outputId": "b34a53a7-c2ff-45ee-de8b-2123236cb714"
      },
      "execution_count": null,
      "outputs": [
        {
          "output_type": "execute_result",
          "data": {
            "text/plain": [
              "         index  airline  flight source_city departure_time stops arrival_time  \\\n",
              "300148  300148  Vistara  UK-822     Chennai        Morning   one      Evening   \n",
              "300149  300149  Vistara  UK-826     Chennai      Afternoon   one        Night   \n",
              "300150  300150  Vistara  UK-832     Chennai  Early_Morning   one        Night   \n",
              "300151  300151  Vistara  UK-828     Chennai  Early_Morning   one      Evening   \n",
              "300152  300152  Vistara  UK-822     Chennai        Morning   one      Evening   \n",
              "\n",
              "       destination_city     class  duration  days_left  price  \n",
              "300148        Hyderabad  Business     10.08         49  69265  \n",
              "300149        Hyderabad  Business     10.42         49  77105  \n",
              "300150        Hyderabad  Business     13.83         49  79099  \n",
              "300151        Hyderabad  Business     10.00         49  81585  \n",
              "300152        Hyderabad  Business     10.08         49  81585  "
            ],
            "text/html": [
              "\n",
              "  <div id=\"df-79fde93f-7255-450c-b7c6-5066210830a5\" class=\"colab-df-container\">\n",
              "    <div>\n",
              "<style scoped>\n",
              "    .dataframe tbody tr th:only-of-type {\n",
              "        vertical-align: middle;\n",
              "    }\n",
              "\n",
              "    .dataframe tbody tr th {\n",
              "        vertical-align: top;\n",
              "    }\n",
              "\n",
              "    .dataframe thead th {\n",
              "        text-align: right;\n",
              "    }\n",
              "</style>\n",
              "<table border=\"1\" class=\"dataframe\">\n",
              "  <thead>\n",
              "    <tr style=\"text-align: right;\">\n",
              "      <th></th>\n",
              "      <th>index</th>\n",
              "      <th>airline</th>\n",
              "      <th>flight</th>\n",
              "      <th>source_city</th>\n",
              "      <th>departure_time</th>\n",
              "      <th>stops</th>\n",
              "      <th>arrival_time</th>\n",
              "      <th>destination_city</th>\n",
              "      <th>class</th>\n",
              "      <th>duration</th>\n",
              "      <th>days_left</th>\n",
              "      <th>price</th>\n",
              "    </tr>\n",
              "  </thead>\n",
              "  <tbody>\n",
              "    <tr>\n",
              "      <th>300148</th>\n",
              "      <td>300148</td>\n",
              "      <td>Vistara</td>\n",
              "      <td>UK-822</td>\n",
              "      <td>Chennai</td>\n",
              "      <td>Morning</td>\n",
              "      <td>one</td>\n",
              "      <td>Evening</td>\n",
              "      <td>Hyderabad</td>\n",
              "      <td>Business</td>\n",
              "      <td>10.08</td>\n",
              "      <td>49</td>\n",
              "      <td>69265</td>\n",
              "    </tr>\n",
              "    <tr>\n",
              "      <th>300149</th>\n",
              "      <td>300149</td>\n",
              "      <td>Vistara</td>\n",
              "      <td>UK-826</td>\n",
              "      <td>Chennai</td>\n",
              "      <td>Afternoon</td>\n",
              "      <td>one</td>\n",
              "      <td>Night</td>\n",
              "      <td>Hyderabad</td>\n",
              "      <td>Business</td>\n",
              "      <td>10.42</td>\n",
              "      <td>49</td>\n",
              "      <td>77105</td>\n",
              "    </tr>\n",
              "    <tr>\n",
              "      <th>300150</th>\n",
              "      <td>300150</td>\n",
              "      <td>Vistara</td>\n",
              "      <td>UK-832</td>\n",
              "      <td>Chennai</td>\n",
              "      <td>Early_Morning</td>\n",
              "      <td>one</td>\n",
              "      <td>Night</td>\n",
              "      <td>Hyderabad</td>\n",
              "      <td>Business</td>\n",
              "      <td>13.83</td>\n",
              "      <td>49</td>\n",
              "      <td>79099</td>\n",
              "    </tr>\n",
              "    <tr>\n",
              "      <th>300151</th>\n",
              "      <td>300151</td>\n",
              "      <td>Vistara</td>\n",
              "      <td>UK-828</td>\n",
              "      <td>Chennai</td>\n",
              "      <td>Early_Morning</td>\n",
              "      <td>one</td>\n",
              "      <td>Evening</td>\n",
              "      <td>Hyderabad</td>\n",
              "      <td>Business</td>\n",
              "      <td>10.00</td>\n",
              "      <td>49</td>\n",
              "      <td>81585</td>\n",
              "    </tr>\n",
              "    <tr>\n",
              "      <th>300152</th>\n",
              "      <td>300152</td>\n",
              "      <td>Vistara</td>\n",
              "      <td>UK-822</td>\n",
              "      <td>Chennai</td>\n",
              "      <td>Morning</td>\n",
              "      <td>one</td>\n",
              "      <td>Evening</td>\n",
              "      <td>Hyderabad</td>\n",
              "      <td>Business</td>\n",
              "      <td>10.08</td>\n",
              "      <td>49</td>\n",
              "      <td>81585</td>\n",
              "    </tr>\n",
              "  </tbody>\n",
              "</table>\n",
              "</div>\n",
              "    <div class=\"colab-df-buttons\">\n",
              "\n",
              "  <div class=\"colab-df-container\">\n",
              "    <button class=\"colab-df-convert\" onclick=\"convertToInteractive('df-79fde93f-7255-450c-b7c6-5066210830a5')\"\n",
              "            title=\"Convert this dataframe to an interactive table.\"\n",
              "            style=\"display:none;\">\n",
              "\n",
              "  <svg xmlns=\"http://www.w3.org/2000/svg\" height=\"24px\" viewBox=\"0 -960 960 960\">\n",
              "    <path d=\"M120-120v-720h720v720H120Zm60-500h600v-160H180v160Zm220 220h160v-160H400v160Zm0 220h160v-160H400v160ZM180-400h160v-160H180v160Zm440 0h160v-160H620v160ZM180-180h160v-160H180v160Zm440 0h160v-160H620v160Z\"/>\n",
              "  </svg>\n",
              "    </button>\n",
              "\n",
              "  <style>\n",
              "    .colab-df-container {\n",
              "      display:flex;\n",
              "      gap: 12px;\n",
              "    }\n",
              "\n",
              "    .colab-df-convert {\n",
              "      background-color: #E8F0FE;\n",
              "      border: none;\n",
              "      border-radius: 50%;\n",
              "      cursor: pointer;\n",
              "      display: none;\n",
              "      fill: #1967D2;\n",
              "      height: 32px;\n",
              "      padding: 0 0 0 0;\n",
              "      width: 32px;\n",
              "    }\n",
              "\n",
              "    .colab-df-convert:hover {\n",
              "      background-color: #E2EBFA;\n",
              "      box-shadow: 0px 1px 2px rgba(60, 64, 67, 0.3), 0px 1px 3px 1px rgba(60, 64, 67, 0.15);\n",
              "      fill: #174EA6;\n",
              "    }\n",
              "\n",
              "    .colab-df-buttons div {\n",
              "      margin-bottom: 4px;\n",
              "    }\n",
              "\n",
              "    [theme=dark] .colab-df-convert {\n",
              "      background-color: #3B4455;\n",
              "      fill: #D2E3FC;\n",
              "    }\n",
              "\n",
              "    [theme=dark] .colab-df-convert:hover {\n",
              "      background-color: #434B5C;\n",
              "      box-shadow: 0px 1px 3px 1px rgba(0, 0, 0, 0.15);\n",
              "      filter: drop-shadow(0px 1px 2px rgba(0, 0, 0, 0.3));\n",
              "      fill: #FFFFFF;\n",
              "    }\n",
              "  </style>\n",
              "\n",
              "    <script>\n",
              "      const buttonEl =\n",
              "        document.querySelector('#df-79fde93f-7255-450c-b7c6-5066210830a5 button.colab-df-convert');\n",
              "      buttonEl.style.display =\n",
              "        google.colab.kernel.accessAllowed ? 'block' : 'none';\n",
              "\n",
              "      async function convertToInteractive(key) {\n",
              "        const element = document.querySelector('#df-79fde93f-7255-450c-b7c6-5066210830a5');\n",
              "        const dataTable =\n",
              "          await google.colab.kernel.invokeFunction('convertToInteractive',\n",
              "                                                    [key], {});\n",
              "        if (!dataTable) return;\n",
              "\n",
              "        const docLinkHtml = 'Like what you see? Visit the ' +\n",
              "          '<a target=\"_blank\" href=https://colab.research.google.com/notebooks/data_table.ipynb>data table notebook</a>'\n",
              "          + ' to learn more about interactive tables.';\n",
              "        element.innerHTML = '';\n",
              "        dataTable['output_type'] = 'display_data';\n",
              "        await google.colab.output.renderOutput(dataTable, element);\n",
              "        const docLink = document.createElement('div');\n",
              "        docLink.innerHTML = docLinkHtml;\n",
              "        element.appendChild(docLink);\n",
              "      }\n",
              "    </script>\n",
              "  </div>\n",
              "\n",
              "\n",
              "    <div id=\"df-44705cda-e5cd-433e-acac-36690e1376bd\">\n",
              "      <button class=\"colab-df-quickchart\" onclick=\"quickchart('df-44705cda-e5cd-433e-acac-36690e1376bd')\"\n",
              "                title=\"Suggest charts\"\n",
              "                style=\"display:none;\">\n",
              "\n",
              "<svg xmlns=\"http://www.w3.org/2000/svg\" height=\"24px\"viewBox=\"0 0 24 24\"\n",
              "     width=\"24px\">\n",
              "    <g>\n",
              "        <path d=\"M19 3H5c-1.1 0-2 .9-2 2v14c0 1.1.9 2 2 2h14c1.1 0 2-.9 2-2V5c0-1.1-.9-2-2-2zM9 17H7v-7h2v7zm4 0h-2V7h2v10zm4 0h-2v-4h2v4z\"/>\n",
              "    </g>\n",
              "</svg>\n",
              "      </button>\n",
              "\n",
              "<style>\n",
              "  .colab-df-quickchart {\n",
              "      --bg-color: #E8F0FE;\n",
              "      --fill-color: #1967D2;\n",
              "      --hover-bg-color: #E2EBFA;\n",
              "      --hover-fill-color: #174EA6;\n",
              "      --disabled-fill-color: #AAA;\n",
              "      --disabled-bg-color: #DDD;\n",
              "  }\n",
              "\n",
              "  [theme=dark] .colab-df-quickchart {\n",
              "      --bg-color: #3B4455;\n",
              "      --fill-color: #D2E3FC;\n",
              "      --hover-bg-color: #434B5C;\n",
              "      --hover-fill-color: #FFFFFF;\n",
              "      --disabled-bg-color: #3B4455;\n",
              "      --disabled-fill-color: #666;\n",
              "  }\n",
              "\n",
              "  .colab-df-quickchart {\n",
              "    background-color: var(--bg-color);\n",
              "    border: none;\n",
              "    border-radius: 50%;\n",
              "    cursor: pointer;\n",
              "    display: none;\n",
              "    fill: var(--fill-color);\n",
              "    height: 32px;\n",
              "    padding: 0;\n",
              "    width: 32px;\n",
              "  }\n",
              "\n",
              "  .colab-df-quickchart:hover {\n",
              "    background-color: var(--hover-bg-color);\n",
              "    box-shadow: 0 1px 2px rgba(60, 64, 67, 0.3), 0 1px 3px 1px rgba(60, 64, 67, 0.15);\n",
              "    fill: var(--button-hover-fill-color);\n",
              "  }\n",
              "\n",
              "  .colab-df-quickchart-complete:disabled,\n",
              "  .colab-df-quickchart-complete:disabled:hover {\n",
              "    background-color: var(--disabled-bg-color);\n",
              "    fill: var(--disabled-fill-color);\n",
              "    box-shadow: none;\n",
              "  }\n",
              "\n",
              "  .colab-df-spinner {\n",
              "    border: 2px solid var(--fill-color);\n",
              "    border-color: transparent;\n",
              "    border-bottom-color: var(--fill-color);\n",
              "    animation:\n",
              "      spin 1s steps(1) infinite;\n",
              "  }\n",
              "\n",
              "  @keyframes spin {\n",
              "    0% {\n",
              "      border-color: transparent;\n",
              "      border-bottom-color: var(--fill-color);\n",
              "      border-left-color: var(--fill-color);\n",
              "    }\n",
              "    20% {\n",
              "      border-color: transparent;\n",
              "      border-left-color: var(--fill-color);\n",
              "      border-top-color: var(--fill-color);\n",
              "    }\n",
              "    30% {\n",
              "      border-color: transparent;\n",
              "      border-left-color: var(--fill-color);\n",
              "      border-top-color: var(--fill-color);\n",
              "      border-right-color: var(--fill-color);\n",
              "    }\n",
              "    40% {\n",
              "      border-color: transparent;\n",
              "      border-right-color: var(--fill-color);\n",
              "      border-top-color: var(--fill-color);\n",
              "    }\n",
              "    60% {\n",
              "      border-color: transparent;\n",
              "      border-right-color: var(--fill-color);\n",
              "    }\n",
              "    80% {\n",
              "      border-color: transparent;\n",
              "      border-right-color: var(--fill-color);\n",
              "      border-bottom-color: var(--fill-color);\n",
              "    }\n",
              "    90% {\n",
              "      border-color: transparent;\n",
              "      border-bottom-color: var(--fill-color);\n",
              "    }\n",
              "  }\n",
              "</style>\n",
              "\n",
              "      <script>\n",
              "        async function quickchart(key) {\n",
              "          const quickchartButtonEl =\n",
              "            document.querySelector('#' + key + ' button');\n",
              "          quickchartButtonEl.disabled = true;  // To prevent multiple clicks.\n",
              "          quickchartButtonEl.classList.add('colab-df-spinner');\n",
              "          try {\n",
              "            const charts = await google.colab.kernel.invokeFunction(\n",
              "                'suggestCharts', [key], {});\n",
              "          } catch (error) {\n",
              "            console.error('Error during call to suggestCharts:', error);\n",
              "          }\n",
              "          quickchartButtonEl.classList.remove('colab-df-spinner');\n",
              "          quickchartButtonEl.classList.add('colab-df-quickchart-complete');\n",
              "        }\n",
              "        (() => {\n",
              "          let quickchartButtonEl =\n",
              "            document.querySelector('#df-44705cda-e5cd-433e-acac-36690e1376bd button');\n",
              "          quickchartButtonEl.style.display =\n",
              "            google.colab.kernel.accessAllowed ? 'block' : 'none';\n",
              "        })();\n",
              "      </script>\n",
              "    </div>\n",
              "\n",
              "    </div>\n",
              "  </div>\n"
            ],
            "application/vnd.google.colaboratory.intrinsic+json": {
              "type": "dataframe",
              "summary": "{\n  \"name\": \"df\",\n  \"rows\": 5,\n  \"fields\": [\n    {\n      \"column\": \"index\",\n      \"properties\": {\n        \"dtype\": \"number\",\n        \"std\": 1,\n        \"min\": 300148,\n        \"max\": 300152,\n        \"num_unique_values\": 5,\n        \"samples\": [\n          300149,\n          300152,\n          300150\n        ],\n        \"semantic_type\": \"\",\n        \"description\": \"\"\n      }\n    },\n    {\n      \"column\": \"airline\",\n      \"properties\": {\n        \"dtype\": \"category\",\n        \"num_unique_values\": 1,\n        \"samples\": [\n          \"Vistara\"\n        ],\n        \"semantic_type\": \"\",\n        \"description\": \"\"\n      }\n    },\n    {\n      \"column\": \"flight\",\n      \"properties\": {\n        \"dtype\": \"string\",\n        \"num_unique_values\": 4,\n        \"samples\": [\n          \"UK-826\"\n        ],\n        \"semantic_type\": \"\",\n        \"description\": \"\"\n      }\n    },\n    {\n      \"column\": \"source_city\",\n      \"properties\": {\n        \"dtype\": \"category\",\n        \"num_unique_values\": 1,\n        \"samples\": [\n          \"Chennai\"\n        ],\n        \"semantic_type\": \"\",\n        \"description\": \"\"\n      }\n    },\n    {\n      \"column\": \"departure_time\",\n      \"properties\": {\n        \"dtype\": \"string\",\n        \"num_unique_values\": 3,\n        \"samples\": [\n          \"Morning\"\n        ],\n        \"semantic_type\": \"\",\n        \"description\": \"\"\n      }\n    },\n    {\n      \"column\": \"stops\",\n      \"properties\": {\n        \"dtype\": \"category\",\n        \"num_unique_values\": 1,\n        \"samples\": [\n          \"one\"\n        ],\n        \"semantic_type\": \"\",\n        \"description\": \"\"\n      }\n    },\n    {\n      \"column\": \"arrival_time\",\n      \"properties\": {\n        \"dtype\": \"category\",\n        \"num_unique_values\": 2,\n        \"samples\": [\n          \"Night\"\n        ],\n        \"semantic_type\": \"\",\n        \"description\": \"\"\n      }\n    },\n    {\n      \"column\": \"destination_city\",\n      \"properties\": {\n        \"dtype\": \"category\",\n        \"num_unique_values\": 1,\n        \"samples\": [\n          \"Hyderabad\"\n        ],\n        \"semantic_type\": \"\",\n        \"description\": \"\"\n      }\n    },\n    {\n      \"column\": \"class\",\n      \"properties\": {\n        \"dtype\": \"category\",\n        \"num_unique_values\": 1,\n        \"samples\": [\n          \"Business\"\n        ],\n        \"semantic_type\": \"\",\n        \"description\": \"\"\n      }\n    },\n    {\n      \"column\": \"duration\",\n      \"properties\": {\n        \"dtype\": \"number\",\n        \"std\": 1.6559347813244336,\n        \"min\": 10.0,\n        \"max\": 13.83,\n        \"num_unique_values\": 4,\n        \"samples\": [\n          10.42\n        ],\n        \"semantic_type\": \"\",\n        \"description\": \"\"\n      }\n    },\n    {\n      \"column\": \"days_left\",\n      \"properties\": {\n        \"dtype\": \"number\",\n        \"std\": 0,\n        \"min\": 49,\n        \"max\": 49,\n        \"num_unique_values\": 1,\n        \"samples\": [\n          49\n        ],\n        \"semantic_type\": \"\",\n        \"description\": \"\"\n      }\n    },\n    {\n      \"column\": \"price\",\n      \"properties\": {\n        \"dtype\": \"number\",\n        \"std\": 5090,\n        \"min\": 69265,\n        \"max\": 81585,\n        \"num_unique_values\": 4,\n        \"samples\": [\n          77105\n        ],\n        \"semantic_type\": \"\",\n        \"description\": \"\"\n      }\n    }\n  ]\n}"
            }
          },
          "metadata": {},
          "execution_count": 13
        }
      ]
    },
    {
      "cell_type": "markdown",
      "source": [
        "## 4. States summary for numerical columns"
      ],
      "metadata": {
        "id": "B72g7jKt983D"
      }
    },
    {
      "cell_type": "code",
      "source": [
        "df.describe()"
      ],
      "metadata": {
        "colab": {
          "base_uri": "https://localhost:8080/",
          "height": 309
        },
        "id": "t7ZubWaq25Sg",
        "outputId": "9f7765e6-ce85-4d37-bd44-15edf8cda1ac"
      },
      "execution_count": null,
      "outputs": [
        {
          "output_type": "execute_result",
          "data": {
            "text/plain": [
              "               index       duration      days_left          price\n",
              "count  300153.000000  300153.000000  300153.000000  300153.000000\n",
              "mean   150076.000000      12.221021      26.004751   20889.660523\n",
              "std     86646.852011       7.191997      13.561004   22697.767366\n",
              "min         0.000000       0.830000       1.000000    1105.000000\n",
              "25%     75038.000000       6.830000      15.000000    4783.000000\n",
              "50%    150076.000000      11.250000      26.000000    7425.000000\n",
              "75%    225114.000000      16.170000      38.000000   42521.000000\n",
              "max    300152.000000      49.830000      49.000000  123071.000000"
            ],
            "text/html": [
              "\n",
              "  <div id=\"df-3f741ebc-7675-4b52-9f3f-a81ed29bfc55\" class=\"colab-df-container\">\n",
              "    <div>\n",
              "<style scoped>\n",
              "    .dataframe tbody tr th:only-of-type {\n",
              "        vertical-align: middle;\n",
              "    }\n",
              "\n",
              "    .dataframe tbody tr th {\n",
              "        vertical-align: top;\n",
              "    }\n",
              "\n",
              "    .dataframe thead th {\n",
              "        text-align: right;\n",
              "    }\n",
              "</style>\n",
              "<table border=\"1\" class=\"dataframe\">\n",
              "  <thead>\n",
              "    <tr style=\"text-align: right;\">\n",
              "      <th></th>\n",
              "      <th>index</th>\n",
              "      <th>duration</th>\n",
              "      <th>days_left</th>\n",
              "      <th>price</th>\n",
              "    </tr>\n",
              "  </thead>\n",
              "  <tbody>\n",
              "    <tr>\n",
              "      <th>count</th>\n",
              "      <td>300153.000000</td>\n",
              "      <td>300153.000000</td>\n",
              "      <td>300153.000000</td>\n",
              "      <td>300153.000000</td>\n",
              "    </tr>\n",
              "    <tr>\n",
              "      <th>mean</th>\n",
              "      <td>150076.000000</td>\n",
              "      <td>12.221021</td>\n",
              "      <td>26.004751</td>\n",
              "      <td>20889.660523</td>\n",
              "    </tr>\n",
              "    <tr>\n",
              "      <th>std</th>\n",
              "      <td>86646.852011</td>\n",
              "      <td>7.191997</td>\n",
              "      <td>13.561004</td>\n",
              "      <td>22697.767366</td>\n",
              "    </tr>\n",
              "    <tr>\n",
              "      <th>min</th>\n",
              "      <td>0.000000</td>\n",
              "      <td>0.830000</td>\n",
              "      <td>1.000000</td>\n",
              "      <td>1105.000000</td>\n",
              "    </tr>\n",
              "    <tr>\n",
              "      <th>25%</th>\n",
              "      <td>75038.000000</td>\n",
              "      <td>6.830000</td>\n",
              "      <td>15.000000</td>\n",
              "      <td>4783.000000</td>\n",
              "    </tr>\n",
              "    <tr>\n",
              "      <th>50%</th>\n",
              "      <td>150076.000000</td>\n",
              "      <td>11.250000</td>\n",
              "      <td>26.000000</td>\n",
              "      <td>7425.000000</td>\n",
              "    </tr>\n",
              "    <tr>\n",
              "      <th>75%</th>\n",
              "      <td>225114.000000</td>\n",
              "      <td>16.170000</td>\n",
              "      <td>38.000000</td>\n",
              "      <td>42521.000000</td>\n",
              "    </tr>\n",
              "    <tr>\n",
              "      <th>max</th>\n",
              "      <td>300152.000000</td>\n",
              "      <td>49.830000</td>\n",
              "      <td>49.000000</td>\n",
              "      <td>123071.000000</td>\n",
              "    </tr>\n",
              "  </tbody>\n",
              "</table>\n",
              "</div>\n",
              "    <div class=\"colab-df-buttons\">\n",
              "\n",
              "  <div class=\"colab-df-container\">\n",
              "    <button class=\"colab-df-convert\" onclick=\"convertToInteractive('df-3f741ebc-7675-4b52-9f3f-a81ed29bfc55')\"\n",
              "            title=\"Convert this dataframe to an interactive table.\"\n",
              "            style=\"display:none;\">\n",
              "\n",
              "  <svg xmlns=\"http://www.w3.org/2000/svg\" height=\"24px\" viewBox=\"0 -960 960 960\">\n",
              "    <path d=\"M120-120v-720h720v720H120Zm60-500h600v-160H180v160Zm220 220h160v-160H400v160Zm0 220h160v-160H400v160ZM180-400h160v-160H180v160Zm440 0h160v-160H620v160ZM180-180h160v-160H180v160Zm440 0h160v-160H620v160Z\"/>\n",
              "  </svg>\n",
              "    </button>\n",
              "\n",
              "  <style>\n",
              "    .colab-df-container {\n",
              "      display:flex;\n",
              "      gap: 12px;\n",
              "    }\n",
              "\n",
              "    .colab-df-convert {\n",
              "      background-color: #E8F0FE;\n",
              "      border: none;\n",
              "      border-radius: 50%;\n",
              "      cursor: pointer;\n",
              "      display: none;\n",
              "      fill: #1967D2;\n",
              "      height: 32px;\n",
              "      padding: 0 0 0 0;\n",
              "      width: 32px;\n",
              "    }\n",
              "\n",
              "    .colab-df-convert:hover {\n",
              "      background-color: #E2EBFA;\n",
              "      box-shadow: 0px 1px 2px rgba(60, 64, 67, 0.3), 0px 1px 3px 1px rgba(60, 64, 67, 0.15);\n",
              "      fill: #174EA6;\n",
              "    }\n",
              "\n",
              "    .colab-df-buttons div {\n",
              "      margin-bottom: 4px;\n",
              "    }\n",
              "\n",
              "    [theme=dark] .colab-df-convert {\n",
              "      background-color: #3B4455;\n",
              "      fill: #D2E3FC;\n",
              "    }\n",
              "\n",
              "    [theme=dark] .colab-df-convert:hover {\n",
              "      background-color: #434B5C;\n",
              "      box-shadow: 0px 1px 3px 1px rgba(0, 0, 0, 0.15);\n",
              "      filter: drop-shadow(0px 1px 2px rgba(0, 0, 0, 0.3));\n",
              "      fill: #FFFFFF;\n",
              "    }\n",
              "  </style>\n",
              "\n",
              "    <script>\n",
              "      const buttonEl =\n",
              "        document.querySelector('#df-3f741ebc-7675-4b52-9f3f-a81ed29bfc55 button.colab-df-convert');\n",
              "      buttonEl.style.display =\n",
              "        google.colab.kernel.accessAllowed ? 'block' : 'none';\n",
              "\n",
              "      async function convertToInteractive(key) {\n",
              "        const element = document.querySelector('#df-3f741ebc-7675-4b52-9f3f-a81ed29bfc55');\n",
              "        const dataTable =\n",
              "          await google.colab.kernel.invokeFunction('convertToInteractive',\n",
              "                                                    [key], {});\n",
              "        if (!dataTable) return;\n",
              "\n",
              "        const docLinkHtml = 'Like what you see? Visit the ' +\n",
              "          '<a target=\"_blank\" href=https://colab.research.google.com/notebooks/data_table.ipynb>data table notebook</a>'\n",
              "          + ' to learn more about interactive tables.';\n",
              "        element.innerHTML = '';\n",
              "        dataTable['output_type'] = 'display_data';\n",
              "        await google.colab.output.renderOutput(dataTable, element);\n",
              "        const docLink = document.createElement('div');\n",
              "        docLink.innerHTML = docLinkHtml;\n",
              "        element.appendChild(docLink);\n",
              "      }\n",
              "    </script>\n",
              "  </div>\n",
              "\n",
              "\n",
              "    <div id=\"df-6e416f29-8ed2-4934-83f5-87286c67794a\">\n",
              "      <button class=\"colab-df-quickchart\" onclick=\"quickchart('df-6e416f29-8ed2-4934-83f5-87286c67794a')\"\n",
              "                title=\"Suggest charts\"\n",
              "                style=\"display:none;\">\n",
              "\n",
              "<svg xmlns=\"http://www.w3.org/2000/svg\" height=\"24px\"viewBox=\"0 0 24 24\"\n",
              "     width=\"24px\">\n",
              "    <g>\n",
              "        <path d=\"M19 3H5c-1.1 0-2 .9-2 2v14c0 1.1.9 2 2 2h14c1.1 0 2-.9 2-2V5c0-1.1-.9-2-2-2zM9 17H7v-7h2v7zm4 0h-2V7h2v10zm4 0h-2v-4h2v4z\"/>\n",
              "    </g>\n",
              "</svg>\n",
              "      </button>\n",
              "\n",
              "<style>\n",
              "  .colab-df-quickchart {\n",
              "      --bg-color: #E8F0FE;\n",
              "      --fill-color: #1967D2;\n",
              "      --hover-bg-color: #E2EBFA;\n",
              "      --hover-fill-color: #174EA6;\n",
              "      --disabled-fill-color: #AAA;\n",
              "      --disabled-bg-color: #DDD;\n",
              "  }\n",
              "\n",
              "  [theme=dark] .colab-df-quickchart {\n",
              "      --bg-color: #3B4455;\n",
              "      --fill-color: #D2E3FC;\n",
              "      --hover-bg-color: #434B5C;\n",
              "      --hover-fill-color: #FFFFFF;\n",
              "      --disabled-bg-color: #3B4455;\n",
              "      --disabled-fill-color: #666;\n",
              "  }\n",
              "\n",
              "  .colab-df-quickchart {\n",
              "    background-color: var(--bg-color);\n",
              "    border: none;\n",
              "    border-radius: 50%;\n",
              "    cursor: pointer;\n",
              "    display: none;\n",
              "    fill: var(--fill-color);\n",
              "    height: 32px;\n",
              "    padding: 0;\n",
              "    width: 32px;\n",
              "  }\n",
              "\n",
              "  .colab-df-quickchart:hover {\n",
              "    background-color: var(--hover-bg-color);\n",
              "    box-shadow: 0 1px 2px rgba(60, 64, 67, 0.3), 0 1px 3px 1px rgba(60, 64, 67, 0.15);\n",
              "    fill: var(--button-hover-fill-color);\n",
              "  }\n",
              "\n",
              "  .colab-df-quickchart-complete:disabled,\n",
              "  .colab-df-quickchart-complete:disabled:hover {\n",
              "    background-color: var(--disabled-bg-color);\n",
              "    fill: var(--disabled-fill-color);\n",
              "    box-shadow: none;\n",
              "  }\n",
              "\n",
              "  .colab-df-spinner {\n",
              "    border: 2px solid var(--fill-color);\n",
              "    border-color: transparent;\n",
              "    border-bottom-color: var(--fill-color);\n",
              "    animation:\n",
              "      spin 1s steps(1) infinite;\n",
              "  }\n",
              "\n",
              "  @keyframes spin {\n",
              "    0% {\n",
              "      border-color: transparent;\n",
              "      border-bottom-color: var(--fill-color);\n",
              "      border-left-color: var(--fill-color);\n",
              "    }\n",
              "    20% {\n",
              "      border-color: transparent;\n",
              "      border-left-color: var(--fill-color);\n",
              "      border-top-color: var(--fill-color);\n",
              "    }\n",
              "    30% {\n",
              "      border-color: transparent;\n",
              "      border-left-color: var(--fill-color);\n",
              "      border-top-color: var(--fill-color);\n",
              "      border-right-color: var(--fill-color);\n",
              "    }\n",
              "    40% {\n",
              "      border-color: transparent;\n",
              "      border-right-color: var(--fill-color);\n",
              "      border-top-color: var(--fill-color);\n",
              "    }\n",
              "    60% {\n",
              "      border-color: transparent;\n",
              "      border-right-color: var(--fill-color);\n",
              "    }\n",
              "    80% {\n",
              "      border-color: transparent;\n",
              "      border-right-color: var(--fill-color);\n",
              "      border-bottom-color: var(--fill-color);\n",
              "    }\n",
              "    90% {\n",
              "      border-color: transparent;\n",
              "      border-bottom-color: var(--fill-color);\n",
              "    }\n",
              "  }\n",
              "</style>\n",
              "\n",
              "      <script>\n",
              "        async function quickchart(key) {\n",
              "          const quickchartButtonEl =\n",
              "            document.querySelector('#' + key + ' button');\n",
              "          quickchartButtonEl.disabled = true;  // To prevent multiple clicks.\n",
              "          quickchartButtonEl.classList.add('colab-df-spinner');\n",
              "          try {\n",
              "            const charts = await google.colab.kernel.invokeFunction(\n",
              "                'suggestCharts', [key], {});\n",
              "          } catch (error) {\n",
              "            console.error('Error during call to suggestCharts:', error);\n",
              "          }\n",
              "          quickchartButtonEl.classList.remove('colab-df-spinner');\n",
              "          quickchartButtonEl.classList.add('colab-df-quickchart-complete');\n",
              "        }\n",
              "        (() => {\n",
              "          let quickchartButtonEl =\n",
              "            document.querySelector('#df-6e416f29-8ed2-4934-83f5-87286c67794a button');\n",
              "          quickchartButtonEl.style.display =\n",
              "            google.colab.kernel.accessAllowed ? 'block' : 'none';\n",
              "        })();\n",
              "      </script>\n",
              "    </div>\n",
              "\n",
              "    </div>\n",
              "  </div>\n"
            ],
            "application/vnd.google.colaboratory.intrinsic+json": {
              "type": "dataframe",
              "summary": "{\n  \"name\": \"df\",\n  \"rows\": 8,\n  \"fields\": [\n    {\n      \"column\": \"index\",\n      \"properties\": {\n        \"dtype\": \"number\",\n        \"std\": 108176.37443497643,\n        \"min\": 0.0,\n        \"max\": 300153.0,\n        \"num_unique_values\": 7,\n        \"samples\": [\n          300153.0,\n          150076.0,\n          225114.0\n        ],\n        \"semantic_type\": \"\",\n        \"description\": \"\"\n      }\n    },\n    {\n      \"column\": \"duration\",\n      \"properties\": {\n        \"dtype\": \"number\",\n        \"std\": 106114.84279188853,\n        \"min\": 0.83,\n        \"max\": 300153.0,\n        \"num_unique_values\": 8,\n        \"samples\": [\n          12.221020812718846,\n          11.25,\n          300153.0\n        ],\n        \"semantic_type\": \"\",\n        \"description\": \"\"\n      }\n    },\n    {\n      \"column\": \"days_left\",\n      \"properties\": {\n        \"dtype\": \"number\",\n        \"std\": 106111.59803243961,\n        \"min\": 1.0,\n        \"max\": 300153.0,\n        \"num_unique_values\": 8,\n        \"samples\": [\n          26.004750910369044,\n          26.0,\n          300153.0\n        ],\n        \"semantic_type\": \"\",\n        \"description\": \"\"\n      }\n    },\n    {\n      \"column\": \"price\",\n      \"properties\": {\n        \"dtype\": \"number\",\n        \"std\": 102770.44098272717,\n        \"min\": 1105.0,\n        \"max\": 300153.0,\n        \"num_unique_values\": 8,\n        \"samples\": [\n          20889.660523133203,\n          7425.0,\n          300153.0\n        ],\n        \"semantic_type\": \"\",\n        \"description\": \"\"\n      }\n    }\n  ]\n}"
            }
          },
          "metadata": {},
          "execution_count": 14
        }
      ]
    },
    {
      "cell_type": "markdown",
      "source": [
        "## 5.LIST OF ALL COLUMNS"
      ],
      "metadata": {
        "id": "yVCjrHfi-Sxw"
      }
    },
    {
      "cell_type": "code",
      "source": [
        "df.columns"
      ],
      "metadata": {
        "colab": {
          "base_uri": "https://localhost:8080/"
        },
        "id": "GWwUnZ0e25QV",
        "outputId": "d8c98aa3-c589-4798-fa58-a12ff6d243b8"
      },
      "execution_count": null,
      "outputs": [
        {
          "output_type": "execute_result",
          "data": {
            "text/plain": [
              "Index(['index', 'airline', 'flight', 'source_city', 'departure_time', 'stops',\n",
              "       'arrival_time', 'destination_city', 'class', 'duration', 'days_left',\n",
              "       'price'],\n",
              "      dtype='object')"
            ]
          },
          "metadata": {},
          "execution_count": 15
        }
      ]
    },
    {
      "cell_type": "markdown",
      "source": [
        "## 6.COLUMNS DATATYPE"
      ],
      "metadata": {
        "id": "UztAd_c5-0CA"
      }
    },
    {
      "cell_type": "code",
      "source": [
        "df.dtypes"
      ],
      "metadata": {
        "colab": {
          "base_uri": "https://localhost:8080/",
          "height": 460
        },
        "id": "2aBNxqXa25Nm",
        "outputId": "25d8ee9a-89c2-41c8-8a8b-47eed66944ca"
      },
      "execution_count": null,
      "outputs": [
        {
          "output_type": "execute_result",
          "data": {
            "text/plain": [
              "index                 int64\n",
              "airline              object\n",
              "flight               object\n",
              "source_city          object\n",
              "departure_time       object\n",
              "stops                object\n",
              "arrival_time         object\n",
              "destination_city     object\n",
              "class                object\n",
              "duration            float64\n",
              "days_left             int64\n",
              "price                 int64\n",
              "dtype: object"
            ],
            "text/html": [
              "<div>\n",
              "<style scoped>\n",
              "    .dataframe tbody tr th:only-of-type {\n",
              "        vertical-align: middle;\n",
              "    }\n",
              "\n",
              "    .dataframe tbody tr th {\n",
              "        vertical-align: top;\n",
              "    }\n",
              "\n",
              "    .dataframe thead th {\n",
              "        text-align: right;\n",
              "    }\n",
              "</style>\n",
              "<table border=\"1\" class=\"dataframe\">\n",
              "  <thead>\n",
              "    <tr style=\"text-align: right;\">\n",
              "      <th></th>\n",
              "      <th>0</th>\n",
              "    </tr>\n",
              "  </thead>\n",
              "  <tbody>\n",
              "    <tr>\n",
              "      <th>index</th>\n",
              "      <td>int64</td>\n",
              "    </tr>\n",
              "    <tr>\n",
              "      <th>airline</th>\n",
              "      <td>object</td>\n",
              "    </tr>\n",
              "    <tr>\n",
              "      <th>flight</th>\n",
              "      <td>object</td>\n",
              "    </tr>\n",
              "    <tr>\n",
              "      <th>source_city</th>\n",
              "      <td>object</td>\n",
              "    </tr>\n",
              "    <tr>\n",
              "      <th>departure_time</th>\n",
              "      <td>object</td>\n",
              "    </tr>\n",
              "    <tr>\n",
              "      <th>stops</th>\n",
              "      <td>object</td>\n",
              "    </tr>\n",
              "    <tr>\n",
              "      <th>arrival_time</th>\n",
              "      <td>object</td>\n",
              "    </tr>\n",
              "    <tr>\n",
              "      <th>destination_city</th>\n",
              "      <td>object</td>\n",
              "    </tr>\n",
              "    <tr>\n",
              "      <th>class</th>\n",
              "      <td>object</td>\n",
              "    </tr>\n",
              "    <tr>\n",
              "      <th>duration</th>\n",
              "      <td>float64</td>\n",
              "    </tr>\n",
              "    <tr>\n",
              "      <th>days_left</th>\n",
              "      <td>int64</td>\n",
              "    </tr>\n",
              "    <tr>\n",
              "      <th>price</th>\n",
              "      <td>int64</td>\n",
              "    </tr>\n",
              "  </tbody>\n",
              "</table>\n",
              "</div><br><label><b>dtype:</b> object</label>"
            ]
          },
          "metadata": {},
          "execution_count": 16
        }
      ]
    },
    {
      "cell_type": "markdown",
      "source": [
        "## 7. Missing Values"
      ],
      "metadata": {
        "id": "nVjOqmSr_JoH"
      }
    },
    {
      "cell_type": "code",
      "source": [
        "df.isnull().sum()\n",
        "df.isnull().mean()*100\n"
      ],
      "metadata": {
        "colab": {
          "base_uri": "https://localhost:8080/",
          "height": 523
        },
        "id": "nDW3hP2z_KG0",
        "outputId": "acd6ecdd-71d2-47d3-ade5-4382dbdbe4d1"
      },
      "execution_count": null,
      "outputs": [
        {
          "output_type": "execute_result",
          "data": {
            "text/plain": [
              "index               0.0\n",
              "airline             0.0\n",
              "flight              0.0\n",
              "source_city         0.0\n",
              "departure_time      0.0\n",
              "stops               0.0\n",
              "arrival_time        0.0\n",
              "destination_city    0.0\n",
              "class               0.0\n",
              "duration            0.0\n",
              "days_left           0.0\n",
              "price               0.0\n",
              "stops_cleaned       0.0\n",
              "route               0.0\n",
              "dtype: float64"
            ],
            "text/html": [
              "<div>\n",
              "<style scoped>\n",
              "    .dataframe tbody tr th:only-of-type {\n",
              "        vertical-align: middle;\n",
              "    }\n",
              "\n",
              "    .dataframe tbody tr th {\n",
              "        vertical-align: top;\n",
              "    }\n",
              "\n",
              "    .dataframe thead th {\n",
              "        text-align: right;\n",
              "    }\n",
              "</style>\n",
              "<table border=\"1\" class=\"dataframe\">\n",
              "  <thead>\n",
              "    <tr style=\"text-align: right;\">\n",
              "      <th></th>\n",
              "      <th>0</th>\n",
              "    </tr>\n",
              "  </thead>\n",
              "  <tbody>\n",
              "    <tr>\n",
              "      <th>index</th>\n",
              "      <td>0.0</td>\n",
              "    </tr>\n",
              "    <tr>\n",
              "      <th>airline</th>\n",
              "      <td>0.0</td>\n",
              "    </tr>\n",
              "    <tr>\n",
              "      <th>flight</th>\n",
              "      <td>0.0</td>\n",
              "    </tr>\n",
              "    <tr>\n",
              "      <th>source_city</th>\n",
              "      <td>0.0</td>\n",
              "    </tr>\n",
              "    <tr>\n",
              "      <th>departure_time</th>\n",
              "      <td>0.0</td>\n",
              "    </tr>\n",
              "    <tr>\n",
              "      <th>stops</th>\n",
              "      <td>0.0</td>\n",
              "    </tr>\n",
              "    <tr>\n",
              "      <th>arrival_time</th>\n",
              "      <td>0.0</td>\n",
              "    </tr>\n",
              "    <tr>\n",
              "      <th>destination_city</th>\n",
              "      <td>0.0</td>\n",
              "    </tr>\n",
              "    <tr>\n",
              "      <th>class</th>\n",
              "      <td>0.0</td>\n",
              "    </tr>\n",
              "    <tr>\n",
              "      <th>duration</th>\n",
              "      <td>0.0</td>\n",
              "    </tr>\n",
              "    <tr>\n",
              "      <th>days_left</th>\n",
              "      <td>0.0</td>\n",
              "    </tr>\n",
              "    <tr>\n",
              "      <th>price</th>\n",
              "      <td>0.0</td>\n",
              "    </tr>\n",
              "    <tr>\n",
              "      <th>stops_cleaned</th>\n",
              "      <td>0.0</td>\n",
              "    </tr>\n",
              "    <tr>\n",
              "      <th>route</th>\n",
              "      <td>0.0</td>\n",
              "    </tr>\n",
              "  </tbody>\n",
              "</table>\n",
              "</div><br><label><b>dtype:</b> float64</label>"
            ]
          },
          "metadata": {},
          "execution_count": 58
        }
      ]
    },
    {
      "cell_type": "code",
      "source": [
        "sns.histplot(df.isnull(), cbar=False)\n",
        "plt.title(\"Missing Data Histplot\")\n",
        "plt.show()"
      ],
      "metadata": {
        "colab": {
          "base_uri": "https://localhost:8080/",
          "height": 452
        },
        "id": "T4SzSzUb_LEr",
        "outputId": "f103554a-3253-4fa8-cfe2-a764adc6df7e"
      },
      "execution_count": null,
      "outputs": [
        {
          "output_type": "display_data",
          "data": {
            "text/plain": [
              "<Figure size 640x480 with 1 Axes>"
            ],
            "image/png": "[encoded data removed]"
          },
          "metadata": {}
        }
      ]
    },
    {
      "cell_type": "markdown",
      "source": [
        " # QUESTIONS TO EXPLORE"
      ],
      "metadata": {
        "id": "H88vkKhFKLrz"
      }
    },
    {
      "cell_type": "markdown",
      "source": [
        "- **Which airline is the most expensive on average?**\n",
        "  - Purpose : Compare pricing\n",
        "- **How does price vary with the number of stops?**\n",
        "  - Purpose : Analyze stop-wise trends\n",
        "- **Does booking earlier result in cheaper tickets?**\n",
        "  - Purpose : Days left vs price\n",
        "- **Which city pairs have the highest average price?**\n",
        "  - Purpose : Source-Destination pricing\n",
        "- **Are morning flights cheaper than evening flights?**\n",
        "  - Purpose : Time of departure vs price\n",
        "- **Does travel class (Economy vs Business) significantly affect price?**\n",
        "  - Purpose : Class vs pricing\n",
        "- **Do some airlines have longer average durations for the same route?**\n",
        "  - Purpose : Duration analysis\n",
        "- **Are there any anomalies (outliers) in price or duration?**\n",
        "  - Purpose : Detect outliers\n"
      ],
      "metadata": {
        "id": "o49-SwGgPsRG"
      }
    },
    {
      "cell_type": "markdown",
      "source": [
        "# *UNIVARIATE ANALYSIS :*"
      ],
      "metadata": {
        "id": "7DjGhP90TJii"
      }
    },
    {
      "cell_type": "markdown",
      "source": [
        "## Average price per Airline"
      ],
      "metadata": {
        "id": "s9Nvm3OxTOiI"
      }
    },
    {
      "cell_type": "code",
      "source": [
        "print(\"\\nDescriptive Statistics for 'price' and 'duration':\")\n",
        "print(df[['price', 'duration']].describe())\n",
        "\n",
        "avg_price_per_airline = df.groupby('airline')['price'].mean().sort_values(ascending=False)\n",
        "print(\"\\nAverage Price by Airline:\\n\", avg_price_per_airline)"
      ],
      "metadata": {
        "colab": {
          "base_uri": "https://localhost:8080/"
        },
        "id": "WMh396CMTSQ-",
        "outputId": "fd09c753-3e20-4209-a00b-caacd5d7c5f4"
      },
      "execution_count": null,
      "outputs": [
        {
          "output_type": "stream",
          "name": "stdout",
          "text": [
            "\n",
            "Descriptive Statistics for 'price' and 'duration':\n",
            "               price       duration\n",
            "count  300153.000000  300153.000000\n",
            "mean    20889.660523      12.221021\n",
            "std     22697.767366       7.191997\n",
            "min      1105.000000       0.830000\n",
            "25%      4783.000000       6.830000\n",
            "50%      7425.000000      11.250000\n",
            "75%     42521.000000      16.170000\n",
            "max    123071.000000      49.830000\n",
            "\n",
            "Average Price by Airline:\n",
            " airline\n",
            "Vistara      30396.536302\n",
            "Air_India    23507.019112\n",
            "SpiceJet      6179.278881\n",
            "GO_FIRST      5652.007595\n",
            "Indigo        5324.216303\n",
            "AirAsia       4091.072742\n",
            "Name: price, dtype: float64\n"
          ]
        }
      ]
    },
    {
      "cell_type": "markdown",
      "source": [
        "### Visuals through BARPLOT"
      ],
      "metadata": {
        "id": "JNhDSGO1TZJE"
      }
    },
    {
      "cell_type": "code",
      "source": [
        "sns.barplot(x=avg_price_per_airline.index, y=avg_price_per_airline.values)\n",
        "plt.xlabel('Airline')\n",
        "plt.ylabel('Average Price')\n",
        "plt.title('Average Price by Airline')"
      ],
      "metadata": {
        "id": "tsswf-kh_LBL",
        "colab": {
          "base_uri": "https://localhost:8080/",
          "height": 489
        },
        "outputId": "3946df5f-a59b-436b-ffff-6787de68b9d2"
      },
      "execution_count": 61,
      "outputs": [
        {
          "output_type": "execute_result",
          "data": {
            "text/plain": [
              "Text(0.5, 1.0, 'Average Price by Airline')"
            ]
          },
          "metadata": {},
          "execution_count": 61
        },
        {
          "output_type": "display_data",
          "data": {
            "text/plain": [
              "<Figure size 640x480 with 1 Axes>"
            ],
            "image/png": "[encoded data removed]"
          },
          "metadata": {}
        }
      ]
    },
    {
      "cell_type": "code",
      "source": [
        "from scipy.stats import skew, kurtosis\n",
        "print(\"Skewness of Price:\", skew(df['price']))\n",
        "print(\"Kurtosis of Price:\", kurtosis(df['price']))"
      ],
      "metadata": {
        "id": "WHhmG0wB_K-Z",
        "colab": {
          "base_uri": "https://localhost:8080/"
        },
        "outputId": "156bcd23-d484-46da-cf08-fad90f14ddde"
      },
      "execution_count": null,
      "outputs": [
        {
          "output_type": "stream",
          "name": "stdout",
          "text": [
            "Skewness of Price: 1.0613719490179376\n",
            "Kurtosis of Price: -0.3963061069535949\n"
          ]
        }
      ]
    },
    {
      "cell_type": "markdown",
      "source": [
        "## Price Vs Number Of Stops"
      ],
      "metadata": {
        "id": "UszDirzFVyrU"
      }
    },
    {
      "cell_type": "code",
      "source": [
        "df['stops'].value_counts()"
      ],
      "metadata": {
        "id": "YeoaOB1C_K8G",
        "colab": {
          "base_uri": "https://localhost:8080/",
          "height": 209
        },
        "outputId": "ab0793e4-6595-4a5b-e6eb-eb6913247e80"
      },
      "execution_count": null,
      "outputs": [
        {
          "output_type": "execute_result",
          "data": {
            "text/plain": [
              "stops\n",
              "one            250863\n",
              "zero            36004\n",
              "two_or_more     13286\n",
              "Name: count, dtype: int64"
            ],
            "text/html": [
              "<div>\n",
              "<style scoped>\n",
              "    .dataframe tbody tr th:only-of-type {\n",
              "        vertical-align: middle;\n",
              "    }\n",
              "\n",
              "    .dataframe tbody tr th {\n",
              "        vertical-align: top;\n",
              "    }\n",
              "\n",
              "    .dataframe thead th {\n",
              "        text-align: right;\n",
              "    }\n",
              "</style>\n",
              "<table border=\"1\" class=\"dataframe\">\n",
              "  <thead>\n",
              "    <tr style=\"text-align: right;\">\n",
              "      <th></th>\n",
              "      <th>count</th>\n",
              "    </tr>\n",
              "    <tr>\n",
              "      <th>stops</th>\n",
              "      <th></th>\n",
              "    </tr>\n",
              "  </thead>\n",
              "  <tbody>\n",
              "    <tr>\n",
              "      <th>one</th>\n",
              "      <td>250863</td>\n",
              "    </tr>\n",
              "    <tr>\n",
              "      <th>zero</th>\n",
              "      <td>36004</td>\n",
              "    </tr>\n",
              "    <tr>\n",
              "      <th>two_or_more</th>\n",
              "      <td>13286</td>\n",
              "    </tr>\n",
              "  </tbody>\n",
              "</table>\n",
              "</div><br><label><b>dtype:</b> int64</label>"
            ]
          },
          "metadata": {},
          "execution_count": 31
        }
      ]
    },
    {
      "cell_type": "markdown",
      "source": [
        "### Visuals through BOXPLOT"
      ],
      "metadata": {
        "id": "RtjTruDLW9mv"
      }
    },
    {
      "cell_type": "code",
      "source": [
        "plt.figure(figsize=(8,5))\n",
        "sns.boxplot(x='stops', y='price', data=df)\n",
        "plt.title(\"Flight Price vs Number of Stops\")\n",
        "plt.xlabel(\"Number of Stops\")\n",
        "plt.ylabel(\"Price\")\n",
        "plt.show()"
      ],
      "metadata": {
        "id": "e4tUH1VU_K5u",
        "colab": {
          "base_uri": "https://localhost:8080/",
          "height": 487
        },
        "outputId": "1f2c049a-07f7-41df-dbc5-0aac129d7d39"
      },
      "execution_count": null,
      "outputs": [
        {
          "output_type": "display_data",
          "data": {
            "text/plain": [
              "<Figure size 800x500 with 1 Axes>"
            ],
            "image/png": "[encoded data removed]"
          },
          "metadata": {}
        }
      ]
    },
    {
      "cell_type": "markdown",
      "source": [
        "## DURATION ANALYSIS"
      ],
      "metadata": {
        "id": "UCDqMU5AaR3E"
      }
    },
    {
      "cell_type": "code",
      "source": [
        "df.columns = df.columns.str.strip()\n",
        "df['route'] = df['source_city'] + \" → \" + df['destination_city']\n",
        "route_duration_stats = df.groupby(['route', 'airline'])['duration'].agg(['count', 'mean', 'min', 'max']).reset_index()\n",
        "route_duration_stats = route_duration_stats.sort_values(by='mean', ascending=False)\n",
        "print(\"Top route-airline combinations with highest average durations:\")\n",
        "print(route_duration_stats.head(10))"
      ],
      "metadata": {
        "id": "GSiKeVNC_K3H",
        "colab": {
          "base_uri": "https://localhost:8080/"
        },
        "outputId": "1094c03d-e41c-4cec-9c77-8b14ee47a554"
      },
      "execution_count": null,
      "outputs": [
        {
          "output_type": "stream",
          "name": "stdout",
          "text": [
            "Top route-airline combinations with highest average durations:\n",
            "                     route    airline  count       mean   min    max\n",
            "49       Chennai → Kolkata  Air_India   1869  17.867421  2.58  44.50\n",
            "129      Kolkata → Chennai    Vistara   2800  17.605375  5.50  33.67\n",
            "53       Chennai → Kolkata    Vistara   2949  17.568271  7.08  37.83\n",
            "31     Chennai → Bangalore  Air_India   1638  17.329274  1.00  49.83\n",
            "13   Bangalore → Hyderabad  Air_India   2228  17.226683  1.25  41.83\n",
            "119    Kolkata → Bangalore  Air_India   1959  17.169372  2.58  38.83\n",
            "108    Hyderabad → Kolkata  Air_India   2133  17.162757  2.08  42.00\n",
            "1      Bangalore → Chennai  Air_India   1610  17.029416  1.00  47.75\n",
            "19     Bangalore → Kolkata  Air_India   2026  16.937957  2.42  37.33\n",
            "137    Kolkata → Hyderabad  Air_India   2054  16.898325  2.25  39.83\n"
          ]
        }
      ]
    },
    {
      "cell_type": "markdown",
      "source": [
        "### Visuals through HISTOGRAM"
      ],
      "metadata": {
        "id": "Sof90dB4cEUk"
      }
    },
    {
      "cell_type": "code",
      "source": [
        "sns.histplot(df['duration'], bins=20, kde=True)\n",
        "plt.title('Distribution of Flight Durations')\n",
        "plt.xlabel('Duration (minutes)')\n",
        "plt.ylabel('Frequency')"
      ],
      "metadata": {
        "id": "if8qmuE4_K0h",
        "colab": {
          "base_uri": "https://localhost:8080/",
          "height": 489
        },
        "outputId": "09db08db-5762-4106-b17e-e08183f707aa"
      },
      "execution_count": null,
      "outputs": [
        {
          "output_type": "execute_result",
          "data": {
            "text/plain": [
              "Text(0, 0.5, 'Frequency')"
            ]
          },
          "metadata": {},
          "execution_count": 37
        },
        {
          "output_type": "display_data",
          "data": {
            "text/plain": [
              "<Figure size 640x480 with 1 Axes>"
            ],
            "image/png": "[encoded data removed]"
          },
          "metadata": {}
        }
      ]
    },
    {
      "cell_type": "markdown",
      "source": [
        "# *BIVARIATE ANALYSIS:*"
      ],
      "metadata": {
        "id": "JlNh6DP9dFjt"
      }
    },
    {
      "cell_type": "markdown",
      "source": [
        "## Class(ECONOMY VS BUSINESS) VS Price :"
      ],
      "metadata": {
        "id": "PqT9vchedTyj"
      }
    },
    {
      "cell_type": "code",
      "source": [
        "df.columns = df.columns.str.strip()\n",
        "class_price_stats = df.groupby('class')['price'].agg(['count', 'mean', 'median', 'min', 'max', 'std']).sort_values(by='mean', ascending=False)\n",
        "print(\"Price statistics by travel class:\\n\")\n",
        "print(class_price_stats)"
      ],
      "metadata": {
        "id": "O867tBa1_KyF",
        "colab": {
          "base_uri": "https://localhost:8080/"
        },
        "outputId": "707598fc-fd4a-4654-f824-fb8892157cb7"
      },
      "execution_count": null,
      "outputs": [
        {
          "output_type": "stream",
          "name": "stdout",
          "text": [
            "Price statistics by travel class:\n",
            "\n",
            "           count          mean   median    min     max           std\n",
            "class                                                               \n",
            "Business   93487  52540.081124  53164.0  12000  123071  12969.314606\n",
            "Economy   206666   6572.342383   5772.0   1105   42349   3743.519517\n"
          ]
        }
      ]
    },
    {
      "cell_type": "markdown",
      "source": [
        "## Visuals through HEATMAP:"
      ],
      "metadata": {
        "id": "YpNZ3Jt0diCH"
      }
    },
    {
      "cell_type": "code",
      "source": [
        "pivot_table = df.pivot_table(values='price', index='airline', columns='class', aggfunc='mean')\n",
        "plt.figure(figsize=(8, 6))\n",
        "sns.heatmap(pivot_table, annot=True, fmt=\".0f\", cmap='YlGnBu')\n",
        "plt.title('Average Ticket Price by Airline and Class')\n",
        "plt.xlabel('Travel Class')\n",
        "plt.ylabel('Airline')\n",
        "plt.tight_layout()\n",
        "plt.show()"
      ],
      "metadata": {
        "id": "rab-8EKx_Kvd",
        "colab": {
          "base_uri": "https://localhost:8080/",
          "height": 607
        },
        "outputId": "59211239-f192-478f-c77a-ed1ef1303faf"
      },
      "execution_count": null,
      "outputs": [
        {
          "output_type": "display_data",
          "data": {
            "text/plain": [
              "<Figure size 800x600 with 2 Axes>"
            ],
            "image/png": "[encoded data removed]"
          },
          "metadata": {}
        }
      ]
    },
    {
      "cell_type": "markdown",
      "source": [
        "## *Days left VS Price :*"
      ],
      "metadata": {
        "id": "mbwvLNuMfwA9"
      }
    },
    {
      "cell_type": "code",
      "source": [
        "import pandas as pd\n",
        "from scipy.stats import pearsonr\n",
        "df.columns = df.columns.str.strip()\n",
        "avg_price_by_days = df.groupby('days_left')['price'].mean()\n",
        "corr, p_value = pearsonr(df['days_left'], df['price'])\n",
        "print(\"Average price by days left (few samples):\")\n",
        "print(avg_price_by_days.head())\n",
        "print(f\"\\nCorrelation between days_left and price: {corr:.2f}\")\n",
        "if corr < 0:\n",
        "    print(\"✅ As 'days_left' increases, price tends to decrease.\")\n",
        "else:\n",
        "    print(\"❗ As 'days_left' increases, price tends to increase.\")"
      ],
      "metadata": {
        "id": "4aInH3vF25LO",
        "colab": {
          "base_uri": "https://localhost:8080/"
        },
        "outputId": "469c2296-bf57-4b0c-ff81-3c71dbe6abd0"
      },
      "execution_count": null,
      "outputs": [
        {
          "output_type": "stream",
          "name": "stdout",
          "text": [
            "Average price by days left (few samples):\n",
            "days_left\n",
            "1    21591.867151\n",
            "2    30211.299801\n",
            "3    28976.083569\n",
            "4    25730.905653\n",
            "5    26679.773368\n",
            "Name: price, dtype: float64\n",
            "\n",
            "Correlation between days_left and price: -0.09\n",
            "✅ As 'days_left' increases, price tends to decrease.\n"
          ]
        }
      ]
    },
    {
      "cell_type": "markdown",
      "source": [
        "### Visuals through HISTPLOT"
      ],
      "metadata": {
        "id": "75TD5ljEgBTz"
      }
    },
    {
      "cell_type": "code",
      "source": [
        "sns.histplot(x='days_left', y='price', data=df)\n",
        "plt.title('Relationship between Days Left and Price')\n",
        "plt.xlabel('Days Left')\n",
        "plt.ylabel('Price')"
      ],
      "metadata": {
        "id": "i-dQ-mzsGYeY",
        "colab": {
          "base_uri": "https://localhost:8080/",
          "height": 489
        },
        "outputId": "a13e8054-3600-42f1-d8a3-6400b2774501"
      },
      "execution_count": null,
      "outputs": [
        {
          "output_type": "execute_result",
          "data": {
            "text/plain": [
              "Text(0, 0.5, 'Price')"
            ]
          },
          "metadata": {},
          "execution_count": 45
        },
        {
          "output_type": "display_data",
          "data": {
            "text/plain": [
              "<Figure size 640x480 with 1 Axes>"
            ],
            "image/png": "[encoded data removed]"
          },
          "metadata": {}
        }
      ]
    },
    {
      "cell_type": "markdown",
      "source": [
        "## Source-Destination Pricing"
      ],
      "metadata": {
        "id": "2jMoXRnEshWU"
      }
    },
    {
      "cell_type": "code",
      "source": [
        "df.columns = df.columns.str.strip()\n",
        "df['route'] = df['source_city'] + \" → \" + df['destination_city']\n",
        "route_price_stats = df.groupby('route')['price'].agg(['count', 'mean', 'median']).sort_values(by='mean', ascending=False)\n",
        "print(\"Route-wise Ticket Price Statistics:\\n\")\n",
        "print(route_price_stats.head(10))"
      ],
      "metadata": {
        "id": "mmAdlJ4bGYVs",
        "colab": {
          "base_uri": "https://localhost:8080/"
        },
        "outputId": "e0beeb2c-6fe4-4afc-b946-0053644d22bd"
      },
      "execution_count": null,
      "outputs": [
        {
          "output_type": "stream",
          "name": "stdout",
          "text": [
            "Route-wise Ticket Price Statistics:\n",
            "\n",
            "                     count          mean   median\n",
            "route                                            \n",
            "Chennai → Bangalore   6493  25081.850454  10469.0\n",
            "Kolkata → Chennai     6653  23660.361040   8589.0\n",
            "Bangalore → Kolkata  10028  23500.061229   8112.0\n",
            "Bangalore → Chennai   6410  23321.850078   9241.0\n",
            "Mumbai → Bangalore   12885  23147.873807   7192.0\n",
            "Bangalore → Mumbai   12939  23128.618672   7113.0\n",
            "Mumbai → Chennai     10130  22781.899112   8148.0\n",
            "Chennai → Mumbai      9338  22765.849647   8233.0\n",
            "Kolkata → Bangalore   9824  22744.808428   8111.0\n",
            "Chennai → Kolkata     6983  22669.932407   8394.0\n"
          ]
        }
      ]
    },
    {
      "cell_type": "markdown",
      "source": [
        "### Visuals through HISTPLOT"
      ],
      "metadata": {
        "id": "mZxBsv_fsyg-"
      }
    },
    {
      "cell_type": "code",
      "source": [
        "sns.histplot(x='price', data=df ,color=\"purple\")\n",
        "plt.title('Distribution of Ticket Prices')\n",
        "plt.xlabel('Price')\n",
        "plt.ylabel('Frequency')"
      ],
      "metadata": {
        "id": "wvyJUf0bGYSV",
        "colab": {
          "base_uri": "https://localhost:8080/",
          "height": 489
        },
        "outputId": "5e688d98-ea68-4789-df3a-a5e8d6989fd0"
      },
      "execution_count": null,
      "outputs": [
        {
          "output_type": "execute_result",
          "data": {
            "text/plain": [
              "Text(0, 0.5, 'Frequency')"
            ]
          },
          "metadata": {},
          "execution_count": 49
        },
        {
          "output_type": "display_data",
          "data": {
            "text/plain": [
              "<Figure size 640x480 with 1 Axes>"
            ],
            "image/png": "[encoded data removed]"
          },
          "metadata": {}
        }
      ]
    },
    {
      "cell_type": "markdown",
      "source": [
        "# *HYPOTHESIS TESTING*"
      ],
      "metadata": {
        "id": "nmNPKDUNs5Z1"
      }
    },
    {
      "cell_type": "markdown",
      "source": [
        "## Time of Departure VS Price"
      ],
      "metadata": {
        "id": "93olf1MrtC2F"
      }
    },
    {
      "cell_type": "code",
      "source": [
        "df.columns = df.columns.str.strip()\n",
        "time_price_stats = df.groupby('departure_time')['price'].agg(['count', 'mean', 'median', 'min', 'max']).sort_values(by='mean')\n",
        "print(\"Average Price by Departure Time:\\n\")\n",
        "print(time_price_stats)"
      ],
      "metadata": {
        "id": "lPOsUJRRGYPW",
        "colab": {
          "base_uri": "https://localhost:8080/"
        },
        "outputId": "f74fa167-1458-4795-dbad-e170087b6185"
      },
      "execution_count": null,
      "outputs": [
        {
          "output_type": "stream",
          "name": "stdout",
          "text": [
            "Average Price by Departure Time:\n",
            "\n",
            "                count          mean  median   min     max\n",
            "departure_time                                           \n",
            "Late_Night       1306   9295.299387  4499.0  2050   56058\n",
            "Afternoon       47794  18179.203331  6663.0  1105  111437\n",
            "Early_Morning   66790  20370.676718  7212.0  1105  117307\n",
            "Evening         65102  21232.361894  7425.0  1105  116562\n",
            "Morning         71146  21630.760254  8112.0  1105  123071\n",
            "Night           48015  23062.146808  7813.0  1105  115211\n"
          ]
        }
      ]
    },
    {
      "cell_type": "markdown",
      "source": [
        "### Visuals through BARPLOT"
      ],
      "metadata": {
        "id": "sIDAxem1tNJk"
      }
    },
    {
      "cell_type": "code",
      "source": [
        "sns.barplot(x=time_price_stats.index, y=time_price_stats['mean'] , palette = \"viridis\")\n",
        "plt.xlabel('Departure Time')\n",
        "plt.ylabel('Average Price')\n",
        "plt.title('Average Price by Departure Time')\n",
        "plt.xticks(rotation=90)"
      ],
      "metadata": {
        "id": "SN-rvNhSGYMi",
        "colab": {
          "base_uri": "https://localhost:8080/",
          "height": 764
        },
        "outputId": "5ef7c6fd-4c3a-4bc7-f5bb-8ac4866d9caa"
      },
      "execution_count": null,
      "outputs": [
        {
          "output_type": "stream",
          "name": "stderr",
          "text": [
            "/tmp/ipython-input-4084110843.py:1: FutureWarning: \n",
            "\n",
            "Passing `palette` without assigning `hue` is deprecated and will be removed in v0.14.0. Assign the `x` variable to `hue` and set `legend=False` for the same effect.\n",
            "\n",
            "  sns.barplot(x=time_price_stats.index, y=time_price_stats['mean'] , palette = \"viridis\")\n"
          ]
        },
        {
          "output_type": "execute_result",
          "data": {
            "text/plain": [
              "([0, 1, 2, 3, 4, 5],\n",
              " [Text(0, 0, 'Late_Night'),\n",
              "  Text(1, 0, 'Afternoon'),\n",
              "  Text(2, 0, 'Early_Morning'),\n",
              "  Text(3, 0, 'Evening'),\n",
              "  Text(4, 0, 'Morning'),\n",
              "  Text(5, 0, 'Night')])"
            ]
          },
          "metadata": {},
          "execution_count": 57
        },
        {
          "output_type": "display_data",
          "data": {
            "text/plain": [
              "<Figure size 640x480 with 1 Axes>"
            ],
            "image/png": "[encoded data removed]"
          },
          "metadata": {}
        }
      ]
    },
    {
      "cell_type": "markdown",
      "source": [
        "## Outliers in Price and Duration"
      ],
      "metadata": {
        "id": "MuG-EVUztZck"
      }
    },
    {
      "cell_type": "code",
      "source": [
        "df.columns = df.columns.str.strip()\n",
        "print(\" Summary Statistics:\")\n",
        "print(df[['price', 'duration']].describe())"
      ],
      "metadata": {
        "id": "LfW-VrdJGYI3",
        "colab": {
          "base_uri": "https://localhost:8080/"
        },
        "outputId": "bda4175a-b8ed-4a54-a621-c04763207c08"
      },
      "execution_count": null,
      "outputs": [
        {
          "output_type": "stream",
          "name": "stdout",
          "text": [
            " Summary Statistics:\n",
            "               price       duration\n",
            "count  300153.000000  300153.000000\n",
            "mean    20889.660523      12.221021\n",
            "std     22697.767366       7.191997\n",
            "min      1105.000000       0.830000\n",
            "25%      4783.000000       6.830000\n",
            "50%      7425.000000      11.250000\n",
            "75%     42521.000000      16.170000\n",
            "max    123071.000000      49.830000\n"
          ]
        }
      ]
    },
    {
      "cell_type": "markdown",
      "source": [
        "### Visuals through BARPLOT"
      ],
      "metadata": {
        "id": "qq6uNomcthwq"
      }
    },
    {
      "cell_type": "code",
      "source": [
        "# BAR plot: Price by Class\n",
        "sns.barplot(x='class', y='price', data=df , palette = \"mako\")\n",
        "plt.title('Price Distribution by Travel Class')\n",
        "plt.xlabel('Travel Class')\n",
        "plt.ylabel('Ticket Price (INR)')\n",
        "plt.show()"
      ],
      "metadata": {
        "id": "aKkXxd5EGYFb",
        "colab": {
          "base_uri": "https://localhost:8080/",
          "height": 559
        },
        "outputId": "ade3d0de-8efb-496f-913e-9aac5da213f9"
      },
      "execution_count": null,
      "outputs": [
        {
          "output_type": "stream",
          "name": "stderr",
          "text": [
            "/tmp/ipython-input-2982551349.py:2: FutureWarning: \n",
            "\n",
            "Passing `palette` without assigning `hue` is deprecated and will be removed in v0.14.0. Assign the `x` variable to `hue` and set `legend=False` for the same effect.\n",
            "\n",
            "  sns.barplot(x='class', y='price', data=df , palette = \"mako\")\n"
          ]
        },
        {
          "output_type": "display_data",
          "data": {
            "text/plain": [
              "<Figure size 640x480 with 1 Axes>"
            ],
            "image/png": "[encoded data removed]"
          },
          "metadata": {}
        }
      ]
    },
    {
      "cell_type": "code",
      "source": [
        "# Bar plot: Duration by Airline\n",
        "sns.barplot(x='airline', y='duration', data=df , palette = \"coolwarm\")\n",
        "plt.title('Average Duration by Airline')\n",
        "plt.xlabel('Airline')\n",
        "plt.ylabel('Average Duration (minutes)')\n",
        "plt.xticks(rotation=90)"
      ],
      "metadata": {
        "id": "Z2U2UUqyGYCV",
        "colab": {
          "base_uri": "https://localhost:8080/",
          "height": 733
        },
        "outputId": "b1888bbd-c816-4755-cc02-d00042065062"
      },
      "execution_count": null,
      "outputs": [
        {
          "output_type": "stream",
          "name": "stderr",
          "text": [
            "/tmp/ipython-input-3159292092.py:2: FutureWarning: \n",
            "\n",
            "Passing `palette` without assigning `hue` is deprecated and will be removed in v0.14.0. Assign the `x` variable to `hue` and set `legend=False` for the same effect.\n",
            "\n",
            "  sns.barplot(x='airline', y='duration', data=df , palette = \"coolwarm\")\n"
          ]
        },
        {
          "output_type": "execute_result",
          "data": {
            "text/plain": [
              "([0, 1, 2, 3, 4, 5],\n",
              " [Text(0, 0, 'SpiceJet'),\n",
              "  Text(1, 0, 'AirAsia'),\n",
              "  Text(2, 0, 'Vistara'),\n",
              "  Text(3, 0, 'GO_FIRST'),\n",
              "  Text(4, 0, 'Indigo'),\n",
              "  Text(5, 0, 'Air_India')])"
            ]
          },
          "metadata": {},
          "execution_count": 56
        },
        {
          "output_type": "display_data",
          "data": {
            "text/plain": [
              "<Figure size 640x480 with 1 Axes>"
            ],
            "image/png": "[encoded data removed]"
          },
          "metadata": {}
        }
      ]
    },
    {
      "cell_type": "markdown",
      "source": [
        "# *INSIGHTS AND RECOMMENDATIONS*"
      ],
      "metadata": {
        "id": "qqGV3_NAvk1O"
      }
    },
    {
      "cell_type": "markdown",
      "source": [
        "### *1. Which airline is the most expensive on average?*\n",
        "- Insight:\n",
        "\n",
        "  - Airlines like Jet Airways Business have significantly higher average prices compared to others.\n",
        "\n",
        "  - Low-cost carriers like IndiGo and SpiceJet are cheaper on average.\n",
        "\n",
        "- Recommendation:\n",
        "\n",
        "  - If budget is a priority, avoid premium carriers on short routes.\n",
        "\n",
        "  - Use business airlines for premium experience, but only if necessary."
      ],
      "metadata": {
        "id": "BHxWfv2Dvl9X"
      }
    },
    {
      "cell_type": "markdown",
      "source": [
        "### *2. How does price vary with the number of stops?*\n",
        "- Insight:\n",
        "  - Non-stop flights tend to be more expensive.\n",
        "\n",
        "  - 1-stop or 2-stop flights are generally cheaper, but they increase travel time.\n",
        "\n",
        "- Recommendation:\n",
        "\n",
        "  - Choose 1-stop flights for better pricing if you’re okay with longer duration.\n",
        "\n",
        "  - Use filters to compare stop-wise ticket pricing before booking."
      ],
      "metadata": {
        "id": "oFjsW6rTwFwD"
      }
    },
    {
      "cell_type": "markdown",
      "source": [
        "### *3. Do some airlines have longer average durations for the same route?*\n",
        "- Insight:\n",
        "  - Yes. Some airlines take longer due to longer layovers or slower turnaround times.\n",
        "\n",
        "  - Jet Airways and Air India sometimes have higher average durations than others on the same route.\n",
        "\n",
        "- Recommendation:\n",
        "\n",
        "  - Check total travel duration, not just price. Sometimes cheaper flights take much longer.\n",
        "\n",
        "  -Use flight comparison tools with filters for \"Shortest Duration\"."
      ],
      "metadata": {
        "id": "UygvCAATwHNl"
      }
    },
    {
      "cell_type": "markdown",
      "source": [
        "### *4. Does travel class (Economy vs Business) significantly affect price?*\n",
        "- Insight:\n",
        "\n",
        "  - Yes. Business class is substantially more expensive.\n",
        "\n",
        "  - On average, business class tickets are 3–5x costlier than economy.\n",
        "\n",
        "- Recommendation:\n",
        "\n",
        "  - Stick to economy class for budget trips.\n",
        "\n",
        "  - Use business class only when comfort or corporate travel justifies the price."
      ],
      "metadata": {
        "id": "0ng6vToYwLZB"
      }
    },
    {
      "cell_type": "markdown",
      "source": [
        "### *5. Does booking earlier result in cheaper tickets?*\n",
        "- Insight:\n",
        "\n",
        "  - Clear negative correlation: Earlier booking = Lower price.\n",
        "\n",
        "  - As days_left decreases, price increases rapidly (especially in the last 10 days).\n",
        "\n",
        "- Recommendation:\n",
        "\n",
        "  - Try to book at least 20–30 days in advance to avoid price surges.\n",
        "\n",
        "  - Enable alerts for price drops early on."
      ],
      "metadata": {
        "id": "Vqn74VJ1xOw5"
      }
    },
    {
      "cell_type": "markdown",
      "source": [
        "### *6. Which city pairs have the highest average price?*\n",
        "- Insight:\n",
        "\n",
        "  - Routes like Delhi → Mumbai and Delhi → Bangalore have high average prices, possibly due to:\n",
        "\n",
        "   - High business demand\n",
        "\n",
        "   - Fewer low-cost options\n",
        "\n",
        "- Recommendation:\n",
        "\n",
        "  - Explore alternate nearby airports for cheaper options (e.g., fly to Pune instead of Mumbai).\n",
        "\n",
        "  - Use flexible date search to find cheaper days on these routes."
      ],
      "metadata": {
        "id": "rqGqkBKSxQhx"
      }
    },
    {
      "cell_type": "markdown",
      "source": [
        "### *7. Are morning flights cheaper than evening flights?*\n",
        "- Insight:\n",
        "  - Morning and late-night flights are generally cheaper.\n",
        "\n",
        "  - Evening flights, especially between 6 PM – 9 PM, tend to be more expensive due to demand.\n",
        "\n",
        "- Recommendation:\n",
        "\n",
        "  - Consider early morning or red-eye flights to save money.\n",
        "\n",
        "  - Use filters like \"Depart Before 9 AM\" on travel sites."
      ],
      "metadata": {
        "id": "zx_OyDVRyKxH"
      }
    },
    {
      "cell_type": "markdown",
      "source": [
        "### *8. Are there any anomalies (outliers) in price or duration?*\n",
        "- Insight:\n",
        "\n",
        "  - Yes. Detected extreme high prices and unusually long durations.\n",
        "\n",
        "  - Some business class or multi-stop tickets cause this.\n",
        "\n",
        "- Recommendation:\n",
        "  - Avoid unusually priced flights unless they include premium services.\n",
        "\n",
        "  - Always sort by price/duration and investigate unusually high values."
      ],
      "metadata": {
        "id": "l4sHQVRFzu8S"
      }
    },
    {
      "cell_type": "markdown",
      "source": [
        "# **CONCLUSION :**"
      ],
      "metadata": {
        "id": "hOnOPny8zwHN"
      }
    },
    {
      "cell_type": "markdown",
      "source": [
        "##**Most Expensive Airline (on average):**\n",
        "\n",
        " - Vistara has the highest average price: ₹30,396\n",
        "\n",
        " - AirAsia is the cheapest: ₹4,091\n",
        "\n",
        "\n",
        "## **Stops Impact on Price:**\n",
        " - Flights with:\n",
        "\n",
        "  - Zero stops cost around ₹9,376\n",
        "\n",
        "  - Two or more stops: ₹14,113\n",
        "\n",
        "  - One stop: ₹22,901\n",
        "\n",
        "**➤ Surprisingly, one-stop flights are the most expensive, likely due to specific airline pricing or route popularity.**\n",
        "\n",
        "\n",
        "## **Class-wise Price Difference:**\n",
        "\n",
        " - Economy: Average price ~ ₹6,572\n",
        "\n",
        " - Business: Average price ~ ₹52,540\n",
        "\n",
        "**➤ Business class is roughly 8 times more expensive than economy.**\n",
        "\n",
        "\n",
        "## **Effect of Advance Booking (Days Left):**\n",
        "\n",
        " - Correlation between days_left and price: -0.09\n",
        "\n",
        "**➤ Slight negative correlation, indicating that booking earlier can help save money, but the effect is not very strong.**\n",
        "\n",
        "\n",
        "## **Flight Duration Summary:**\n",
        "\n",
        " - Average duration: 12.2 hours\n",
        "\n",
        " - Max duration: 49.8 hours — this could be a long layover or unusual route.\n",
        "\n",
        "➤ Check for excessively long durations, might be anomalies or multi-stop flights.\n",
        "**bold text**\n",
        "\n",
        "\n",
        "## **Flight Price Summary:**\n",
        " - Average price: ₹20,890\n",
        "\n",
        " - Most flights range between:\n",
        "\n",
        " - 25th percentile: ₹4,783\n",
        "\n",
        " - 75th percentile: ₹42,521\n",
        "\n",
        " - Maximum price: ₹1,23,071\n",
        "\n",
        "\n",
        "## **Outliers in Price:**\n",
        "\n",
        " - 123 extreme outliers detected using IQR (very high/low priced flights)\n",
        "\n",
        "**➤ These may be special cases like international legs, premium business tickets, or data issues.**"
      ],
      "metadata": {
        "id": "pusLbsQo2xgs"
      }
    }
  ]
}